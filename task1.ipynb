{
  "nbformat": 4,
  "nbformat_minor": 0,
  "metadata": {
    "colab": {
      "provenance": []
    },
    "kernelspec": {
      "name": "python3",
      "display_name": "Python 3"
    },
    "language_info": {
      "name": "python"
    }
  },
  "cells": [
    {
      "cell_type": "code",
      "execution_count": 1,
      "metadata": {
        "colab": {
          "base_uri": "https://localhost:8080/"
        },
        "id": "VMzA6cOpgJxG",
        "outputId": "dfada6aa-8445-4f12-fbb9-baf5d7128564"
      },
      "outputs": [
        {
          "output_type": "stream",
          "name": "stdout",
          "text": [
            "Downloading data from https://storage.googleapis.com/tensorflow/tf-keras-datasets/mnist.npz\n",
            "\u001b[1m11490434/11490434\u001b[0m \u001b[32m━━━━━━━━━━━━━━━━━━━━\u001b[0m\u001b[37m\u001b[0m \u001b[1m0s\u001b[0m 0us/step\n"
          ]
        },
        {
          "output_type": "stream",
          "name": "stderr",
          "text": [
            "/usr/local/lib/python3.10/dist-packages/keras/src/layers/core/dense.py:87: UserWarning: Do not pass an `input_shape`/`input_dim` argument to a layer. When using Sequential models, prefer using an `Input(shape)` object as the first layer in the model instead.\n",
            "  super().__init__(activity_regularizer=activity_regularizer, **kwargs)\n"
          ]
        },
        {
          "output_type": "stream",
          "name": "stdout",
          "text": [
            "Epoch 1/5\n",
            "\u001b[1m750/750\u001b[0m \u001b[32m━━━━━━━━━━━━━━━━━━━━\u001b[0m\u001b[37m\u001b[0m \u001b[1m13s\u001b[0m 13ms/step - accuracy: 0.8397 - loss: 0.5808 - val_accuracy: 0.9642 - val_loss: 0.1197\n",
            "Epoch 2/5\n",
            "\u001b[1m750/750\u001b[0m \u001b[32m━━━━━━━━━━━━━━━━━━━━\u001b[0m\u001b[37m\u001b[0m \u001b[1m6s\u001b[0m 8ms/step - accuracy: 0.9582 - loss: 0.1401 - val_accuracy: 0.9678 - val_loss: 0.1026\n",
            "Epoch 3/5\n",
            "\u001b[1m750/750\u001b[0m \u001b[32m━━━━━━━━━━━━━━━━━━━━\u001b[0m\u001b[37m\u001b[0m \u001b[1m9s\u001b[0m 12ms/step - accuracy: 0.9700 - loss: 0.0959 - val_accuracy: 0.9741 - val_loss: 0.0870\n",
            "Epoch 4/5\n",
            "\u001b[1m750/750\u001b[0m \u001b[32m━━━━━━━━━━━━━━━━━━━━\u001b[0m\u001b[37m\u001b[0m \u001b[1m7s\u001b[0m 10ms/step - accuracy: 0.9759 - loss: 0.0770 - val_accuracy: 0.9737 - val_loss: 0.0874\n",
            "Epoch 5/5\n",
            "\u001b[1m750/750\u001b[0m \u001b[32m━━━━━━━━━━━━━━━━━━━━\u001b[0m\u001b[37m\u001b[0m \u001b[1m9s\u001b[0m 9ms/step - accuracy: 0.9801 - loss: 0.0652 - val_accuracy: 0.9763 - val_loss: 0.0855\n",
            "\u001b[1m313/313\u001b[0m \u001b[32m━━━━━━━━━━━━━━━━━━━━\u001b[0m\u001b[37m\u001b[0m \u001b[1m1s\u001b[0m 3ms/step - accuracy: 0.9731 - loss: 0.0888\n",
            "Test Accuracy: 0.9764\n"
          ]
        }
      ],
      "source": [
        "import tensorflow as tf\n",
        "from tensorflow.keras.models import Sequential\n",
        "from tensorflow.keras.layers import Dense, BatchNormalization, ReLU, Dropout\n",
        "\n",
        "# 배치 정규화를 포함한 딥러닝 모델 정의 함수\n",
        "def create_model():\n",
        "    model = Sequential([\n",
        "        # 첫 번째 Dense 층(유닛 수: 256)과 적절한 입력 형태를 추가\n",
        "        Dense(256, input_shape=(784,)),\n",
        "\n",
        "        # 첫 번째 Dense 층 다음에 배치 정규화를 추가\n",
        "        BatchNormalization(),\n",
        "\n",
        "        # 첫 번째 배치 정규화 다음에 ReLU 활성화 함수를 추가\n",
        "        ReLU(),\n",
        "\n",
        "        # 유닛 수가 128인 Dense 층을 추가\n",
        "        Dense(128),\n",
        "\n",
        "        # 해당 층에 배치 정규화와 ReLU를 추가\n",
        "        BatchNormalization(),\n",
        "        ReLU(),\n",
        "\n",
        "        # 드롭아웃 층(드롭아웃 비율: 0.3)을 추가\n",
        "        Dropout(0.3),\n",
        "\n",
        "        # 유닛 수가 64인 Dense 층을 추가\n",
        "        Dense(64),\n",
        "\n",
        "        # 해당 층에 배치 정규화와 ReLU를 추가\n",
        "        BatchNormalization(),\n",
        "        ReLU(),\n",
        "\n",
        "        # 유닛 수가 10인 출력층(Dense)과 softmax 활성화 함수를 추가\n",
        "        Dense(10, activation='softmax')\n",
        "    ])\n",
        "    return model\n",
        "\n",
        "# MNIST 데이터셋을 로드하고 전처리합니다.\n",
        "(x_train, y_train), (x_test, y_test) = tf.keras.datasets.mnist.load_data()\n",
        "\n",
        "# 데이터 형태를 (784,)로 변환하고, 0~1 범위로 정규화\n",
        "x_train = x_train.reshape(-1, 784).astype('float32') / 255.0\n",
        "x_test = x_test.reshape(-1, 784).astype('float32') / 255.0\n",
        "\n",
        "# 모델 생성 및 컴파일\n",
        "model = create_model()\n",
        "model.compile(\n",
        "    optimizer='adam',  # Adam 옵티마이저\n",
        "    loss='sparse_categorical_crossentropy', # sparse categorical crossentropy 손실 함수\n",
        "    metrics=['accuracy'] # accuracy 메트릭\n",
        ")\n",
        "\n",
        "# 배치 크기를 64로, 에포크 수를 5로 설정하여 모델 훈련\n",
        "model.fit(\n",
        "    x_train, y_train,\n",
        "    batch_size=64,\n",
        "    epochs=5,\n",
        "    validation_split=0.2\n",
        ")\n",
        "\n",
        "# 모델 평가 및 테스트 정확도 출력\n",
        "loss, accuracy = model.evaluate(x_test, y_test)\n",
        "print(f\"Test Accuracy: {accuracy:.4f}\")\n"
      ]
    }
  ]
}