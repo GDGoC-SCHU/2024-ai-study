{
  "nbformat": 4,
  "nbformat_minor": 0,
  "metadata": {
    "colab": {
      "provenance": []
    },
    "kernelspec": {
      "name": "python3",
      "display_name": "Python 3"
    },
    "language_info": {
      "name": "python"
    }
  },
  "cells": [
    {
      "cell_type": "code",
      "source": [
        "# 필요한 라이브러리 임포트\n",
        "import numpy as np\n",
        "from sklearn.datasets import make_moons\n",
        "from sklearn.model_selection import train_test_split, GridSearchCV\n",
        "from sklearn.tree import DecisionTreeClassifier\n",
        "from sklearn.metrics import accuracy_score\n",
        "from scipy.stats import mode\n",
        "\n",
        "# 1. 데이터 준비\n",
        "X, y = make_moons(n_samples=10000, noise=0.4, random_state=42)\n",
        "X_train, X_test, y_train, y_test = train_test_split(X, y, test_size=0.2, random_state=42)\n",
        "\n",
        "# 2. 결정 트리 하이퍼파라미터 최적화\n",
        "param_grid = {\n",
        "    'max_depth': [3, 6, 9, 12],\n",
        "    'max_leaf_nodes': [10, 15, 20, 25],\n",
        "    'min_samples_split': [2, 5, 10]\n",
        "}\n",
        "tree_clf = DecisionTreeClassifier(random_state=42)\n",
        "grid_search = GridSearchCV(tree_clf, param_grid, cv=5, scoring='accuracy')\n",
        "grid_search.fit(X_train, y_train)\n",
        "best_tree = grid_search.best_estimator_\n",
        "\n",
        "print(\"Best Parameters:\", grid_search.best_params_)\n",
        "y_pred_tree = best_tree.predict(X_test)\n",
        "print(\"Single Tree Accuracy:\", accuracy_score(y_test, y_pred_tree))\n",
        "\n",
        "# 3. 랜덤 포레스트 구현\n",
        "n_trees = 100\n",
        "n_samples = len(X_train)\n",
        "subset_accuracies = []\n",
        "\n",
        "trees = []\n",
        "for _ in range(n_trees):\n",
        "    indices = np.random.choice(n_samples, n_samples, replace=True)\n",
        "    X_subset, y_subset = X_train[indices], y_train[indices]\n",
        "    tree = DecisionTreeClassifier(max_depth=grid_search.best_params_['max_depth'],\n",
        "                                   max_leaf_nodes=grid_search.best_params_['max_leaf_nodes'],\n",
        "                                   min_samples_split=grid_search.best_params_['min_samples_split'],\n",
        "                                   random_state=42)\n",
        "    tree.fit(X_subset, y_subset)\n",
        "    trees.append(tree)\n",
        "    y_pred = tree.predict(X_test)\n",
        "    subset_accuracies.append(accuracy_score(y_test, y_pred))\n",
        "\n",
        "print(\"Average Single Tree Accuracy:\", np.mean(subset_accuracies))\n",
        "\n",
        "# 4. 다수결 앙상블\n",
        "all_predictions = np.array([tree.predict(X_test) for tree in trees])\n",
        "final_predictions = mode(all_predictions, axis=0).mode.flatten()\n",
        "\n",
        "ensemble_accuracy = accuracy_score(y_test, final_predictions)\n",
        "print(\"Ensemble Accuracy:\", ensemble_accuracy)\n",
        "\n"
      ],
      "metadata": {
        "colab": {
          "base_uri": "https://localhost:8080/"
        },
        "id": "snUm2FgeUZyW",
        "outputId": "262d98b2-d668-4d68-dcbd-8cdf7fa2b312"
      },
      "execution_count": 5,
      "outputs": [
        {
          "output_type": "stream",
          "name": "stdout",
          "text": [
            "Best Parameters: {'max_depth': 9, 'max_leaf_nodes': 25, 'min_samples_split': 2}\n",
            "Single Tree Accuracy: 0.872\n",
            "Average Single Tree Accuracy: 0.862255\n",
            "Ensemble Accuracy: 0.8675\n"
          ]
        }
      ]
    }
  ]
}