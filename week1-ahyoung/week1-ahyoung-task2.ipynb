{
  "nbformat": 4,
  "nbformat_minor": 0,
  "metadata": {
    "colab": {
      "provenance": [],
      "toc_visible": true
    },
    "kernelspec": {
      "name": "python3",
      "display_name": "Python 3"
    },
    "language_info": {
      "name": "python"
    }
  },
  "cells": [
    {
      "cell_type": "code",
      "execution_count": 1,
      "metadata": {
        "colab": {
          "base_uri": "https://localhost:8080/"
        },
        "id": "8TExiS7kG4Is",
        "outputId": "6e91948c-82ac-4e80-ce5f-b4b895050021"
      },
      "outputs": [
        {
          "output_type": "stream",
          "name": "stdout",
          "text": [
            "데이터셋 샘플:\n",
            " [[5.1 3.5 1.4 0.2]\n",
            " [4.9 3.  1.4 0.2]\n",
            " [4.7 3.2 1.3 0.2]\n",
            " [4.6 3.1 1.5 0.2]\n",
            " [5.  3.6 1.4 0.2]]\n",
            "타깃 샘플:\n",
            " [0 0 0 0 0]\n",
            "특성(shape):  (150, 4)\n",
            "타깃(shape):  (150,)\n",
            "훈련 데이터 크기(shape):  (120, 4)\n",
            "테스트 데이터 크기(shape):  (30, 4)\n",
            "모델 정확도: 1.0\n"
          ]
        }
      ],
      "source": [
        "from sklearn.datasets import load_iris\n",
        "from sklearn.model_selection import train_test_split\n",
        "from sklearn.linear_model import LogisticRegression\n",
        "from sklearn.metrics import accuracy_score\n",
        "\n",
        "# 1.데이터 탐색\n",
        "iris = load_iris()\n",
        "\n",
        "print(\"데이터셋 샘플:\\n\", iris.data[:5])\n",
        "print(\"타깃 샘플:\\n\", iris.target[:5])\n",
        "print(\"특성(shape): \", iris.data.shape)\n",
        "print(\"타깃(shape): \", iris.target.shape)\n",
        "\n",
        "# 2.데이터 분할\n",
        "X_train, X_test, y_train, y_test = train_test_split(iris.data, iris.target, test_size=0.2, random_state=42)\n",
        "\n",
        "print(\"훈련 데이터 크기(shape): \", X_train.shape)\n",
        "print(\"테스트 데이터 크기(shape): \", X_test.shape)\n",
        "\n",
        "# 모델 정의 및 훈련\n",
        "# Logistic Regression 모델 정의\n",
        "model = LogisticRegression(max_iter=200)\n",
        "# 모델 학습\n",
        "model.fit(X_train, y_train)\n",
        "\n",
        "# 예측 및 평가\n",
        "# 테스트 데이터를 사용하여 품종 예측\n",
        "y_pred = model.predict(X_test)\n",
        "\n",
        "# 예측 결과 기반으로 정확도 계산\n",
        "accuracy = accuracy_score(y_test, y_pred)\n",
        "print(\"모델 정확도:\", accuracy)"
      ]
    }
  ]
}