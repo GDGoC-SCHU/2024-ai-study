{
 "cells": [
  {
   "cell_type": "code",
   "execution_count": 7,
   "id": "18edd862-cbcb-45b8-befa-78045ce63113",
   "metadata": {
    "scrolled": true
   },
   "outputs": [
    {
     "name": "stdout",
     "output_type": "stream",
     "text": [
      "Collecting opencv-python\n",
      "  Downloading opencv_python-4.10.0.84-cp37-abi3-win_amd64.whl.metadata (20 kB)\n",
      "Requirement already satisfied: numpy>=1.21.2 in c:\\users\\seo12\\anaconda3\\lib\\site-packages (from opencv-python) (1.26.4)\n",
      "Downloading opencv_python-4.10.0.84-cp37-abi3-win_amd64.whl (38.8 MB)\n",
      "   ---------------------------------------- 0.0/38.8 MB ? eta -:--:--\n",
      "    --------------------------------------- 0.5/38.8 MB 2.1 MB/s eta 0:00:19\n",
      "   - -------------------------------------- 1.0/38.8 MB 2.3 MB/s eta 0:00:17\n",
      "   - -------------------------------------- 1.6/38.8 MB 2.3 MB/s eta 0:00:17\n",
      "   -- ------------------------------------- 2.4/38.8 MB 2.7 MB/s eta 0:00:14\n",
      "   --- ------------------------------------ 3.1/38.8 MB 3.0 MB/s eta 0:00:12\n",
      "   --- ------------------------------------ 3.7/38.8 MB 3.1 MB/s eta 0:00:12\n",
      "   ---- ----------------------------------- 4.5/38.8 MB 3.0 MB/s eta 0:00:12\n",
      "   ---- ----------------------------------- 4.7/38.8 MB 2.8 MB/s eta 0:00:13\n",
      "   ----- ---------------------------------- 5.5/38.8 MB 2.8 MB/s eta 0:00:12\n",
      "   ------ --------------------------------- 6.6/38.8 MB 3.1 MB/s eta 0:00:11\n",
      "   ------- -------------------------------- 7.6/38.8 MB 3.2 MB/s eta 0:00:10\n",
      "   -------- ------------------------------- 8.4/38.8 MB 3.3 MB/s eta 0:00:10\n",
      "   --------- ------------------------------ 8.9/38.8 MB 3.3 MB/s eta 0:00:10\n",
      "   ---------- ----------------------------- 10.0/38.8 MB 3.3 MB/s eta 0:00:09\n",
      "   ----------- ---------------------------- 11.0/38.8 MB 3.4 MB/s eta 0:00:09\n",
      "   ----------- ---------------------------- 11.5/38.8 MB 3.4 MB/s eta 0:00:09\n",
      "   ------------ --------------------------- 12.1/38.8 MB 3.3 MB/s eta 0:00:09\n",
      "   ------------- -------------------------- 12.8/38.8 MB 3.3 MB/s eta 0:00:08\n",
      "   -------------- ------------------------- 13.6/38.8 MB 3.4 MB/s eta 0:00:08\n",
      "   --------------- ------------------------ 14.7/38.8 MB 3.5 MB/s eta 0:00:07\n",
      "   ---------------- ----------------------- 15.7/38.8 MB 3.5 MB/s eta 0:00:07\n",
      "   ----------------- ---------------------- 17.0/38.8 MB 3.6 MB/s eta 0:00:07\n",
      "   ------------------ --------------------- 17.6/38.8 MB 3.6 MB/s eta 0:00:06\n",
      "   ------------------ --------------------- 18.4/38.8 MB 3.6 MB/s eta 0:00:06\n",
      "   ------------------- -------------------- 19.1/38.8 MB 3.6 MB/s eta 0:00:06\n",
      "   -------------------- ------------------- 20.2/38.8 MB 3.7 MB/s eta 0:00:06\n",
      "   --------------------- ------------------ 21.2/38.8 MB 3.7 MB/s eta 0:00:05\n",
      "   ---------------------- ----------------- 22.0/38.8 MB 3.7 MB/s eta 0:00:05\n",
      "   ----------------------- ---------------- 22.8/38.8 MB 3.7 MB/s eta 0:00:05\n",
      "   ------------------------ --------------- 23.9/38.8 MB 3.7 MB/s eta 0:00:05\n",
      "   ------------------------- -------------- 24.4/38.8 MB 3.7 MB/s eta 0:00:04\n",
      "   ------------------------- -------------- 25.2/38.8 MB 3.7 MB/s eta 0:00:04\n",
      "   -------------------------- ------------- 26.0/38.8 MB 3.7 MB/s eta 0:00:04\n",
      "   --------------------------- ------------ 26.7/38.8 MB 3.7 MB/s eta 0:00:04\n",
      "   ---------------------------- ----------- 27.3/38.8 MB 3.6 MB/s eta 0:00:04\n",
      "   ---------------------------- ----------- 28.0/38.8 MB 3.6 MB/s eta 0:00:03\n",
      "   ----------------------------- ---------- 28.8/38.8 MB 3.7 MB/s eta 0:00:03\n",
      "   ------------------------------ --------- 29.6/38.8 MB 3.6 MB/s eta 0:00:03\n",
      "   ------------------------------- -------- 30.4/38.8 MB 3.6 MB/s eta 0:00:03\n",
      "   -------------------------------- ------- 31.2/38.8 MB 3.6 MB/s eta 0:00:03\n",
      "   -------------------------------- ------- 31.7/38.8 MB 3.6 MB/s eta 0:00:02\n",
      "   --------------------------------- ------ 32.5/38.8 MB 3.6 MB/s eta 0:00:02\n",
      "   ---------------------------------- ----- 33.3/38.8 MB 3.6 MB/s eta 0:00:02\n",
      "   ----------------------------------- ---- 34.3/38.8 MB 3.7 MB/s eta 0:00:02\n",
      "   ------------------------------------ --- 35.4/38.8 MB 3.7 MB/s eta 0:00:01\n",
      "   ------------------------------------- -- 36.4/38.8 MB 3.7 MB/s eta 0:00:01\n",
      "   -------------------------------------- - 37.2/38.8 MB 3.7 MB/s eta 0:00:01\n",
      "   ---------------------------------------  38.3/38.8 MB 3.7 MB/s eta 0:00:01\n",
      "   ---------------------------------------  38.8/38.8 MB 3.7 MB/s eta 0:00:01\n",
      "   ---------------------------------------- 38.8/38.8 MB 3.7 MB/s eta 0:00:00\n",
      "Installing collected packages: opencv-python\n",
      "Successfully installed opencv-python-4.10.0.84\n",
      "Note: you may need to restart the kernel to use updated packages.\n"
     ]
    }
   ],
   "source": [
    "pip install opencv-python"
   ]
  },
  {
   "cell_type": "code",
   "execution_count": 11,
   "id": "bcd8dad6-c2c8-456e-8945-228a0de1b114",
   "metadata": {},
   "outputs": [
    {
     "name": "stdout",
     "output_type": "stream",
     "text": [
      "Note: you may need to restart the kernel to use updated packages.\n"
     ]
    },
    {
     "name": "stderr",
     "output_type": "stream",
     "text": [
      "ERROR: Could not find a version that satisfies the requirement Sklearn.datasets (from versions: none)\n",
      "ERROR: No matching distribution found for Sklearn.datasets\n"
     ]
    }
   ],
   "source": [
    "pip install Sklearn.datasets"
   ]
  },
  {
   "cell_type": "code",
   "execution_count": 13,
   "id": "cce7dd88-ae72-4505-a9dd-594cdc9c5452",
   "metadata": {},
   "outputs": [
    {
     "ename": "NameError",
     "evalue": "name 'python' is not defined",
     "output_type": "error",
     "traceback": [
      "\u001b[1;31m---------------------------------------------------------------------------\u001b[0m",
      "\u001b[1;31mNameError\u001b[0m                                 Traceback (most recent call last)",
      "Cell \u001b[1;32mIn[13], line 1\u001b[0m\n\u001b[1;32m----> 1\u001b[0m python \u001b[38;5;241m-\u001b[39m\u001b[38;5;241m-\u001b[39mversion\n",
      "\u001b[1;31mNameError\u001b[0m: name 'python' is not defined"
     ]
    }
   ],
   "source": [
    "python --version"
   ]
  },
  {
   "cell_type": "code",
   "execution_count": 15,
   "id": "69d08046-9fe2-434c-a51c-37aa18e575c6",
   "metadata": {},
   "outputs": [
    {
     "name": "stdout",
     "output_type": "stream",
     "text": [
      "Requirement already satisfied: scikit-learn in c:\\users\\seo12\\anaconda3\\lib\\site-packages (1.5.1)\n",
      "Requirement already satisfied: numpy>=1.19.5 in c:\\users\\seo12\\anaconda3\\lib\\site-packages (from scikit-learn) (1.26.4)\n",
      "Requirement already satisfied: scipy>=1.6.0 in c:\\users\\seo12\\anaconda3\\lib\\site-packages (from scikit-learn) (1.13.1)\n",
      "Requirement already satisfied: joblib>=1.2.0 in c:\\users\\seo12\\anaconda3\\lib\\site-packages (from scikit-learn) (1.4.2)\n",
      "Requirement already satisfied: threadpoolctl>=3.1.0 in c:\\users\\seo12\\anaconda3\\lib\\site-packages (from scikit-learn) (3.5.0)\n",
      "Note: you may need to restart the kernel to use updated packages.\n"
     ]
    }
   ],
   "source": [
    "pip install scikit-learn"
   ]
  },
  {
   "cell_type": "code",
   "execution_count": 35,
   "id": "d79ca8d1-2dae-487b-ad3c-dff7bfb7f195",
   "metadata": {},
   "outputs": [
    {
     "name": "stdout",
     "output_type": "stream",
     "text": [
      "데이터셋 샘플:\n",
      "[[5.1 3.5 1.4 0.2]\n",
      " [4.9 3.  1.4 0.2]\n",
      " [4.7 3.2 1.3 0.2]\n",
      " [4.6 3.1 1.5 0.2]\n",
      " [5.  3.6 1.4 0.2]]\n",
      "\n",
      "타깃 샘플:\n",
      "[0 0 0 0 0]\n",
      "\n",
      "특성(shape): (150, 4)\n",
      "타깃(shape): (150,)\n"
     ]
    }
   ],
   "source": [
    "from sklearn.datasets import load_iris\n",
    "import numpy as np\n",
    "\n",
    "iris = load_iris()\n",
    "\n",
    "print(\"데이터셋 샘플:\")\n",
    "print(iris.data[:5])\n",
    "\n",
    "print(\"\\n타깃 샘플:\")\n",
    "print(iris.target[:5]) \n",
    "\n",
    "print(\"\\n특성(shape):\", iris.data.shape)\n",
    "print(\"타깃(shape):\", iris.target.shape)\n",
    "\n",
    "from sklearn.model_selection import train_test_split\n",
    "\n",
    "X_train, X_test, y_train, y_test = train_test_split(iris.data, iris.target, test_size=0.2, random_state=42)\n",
    "\n",
    "from sklearn.linear_model import LogisticRegression\n",
    "\n",
    "model = LogisticRegression()\n",
    "model.fit(X_train, y_train)\n",
    "\n",
    "from sklearn.metrics import accuracy_score\n",
    "\n"
   ]
  },
  {
   "cell_type": "code",
   "execution_count": null,
   "id": "e6538125-ee41-427b-ba7a-3e70cd019d90",
   "metadata": {},
   "outputs": [],
   "source": []
  }
 ],
 "metadata": {
  "kernelspec": {
   "display_name": "Python 3 (ipykernel)",
   "language": "python",
   "name": "python3"
  },
  "language_info": {
   "codemirror_mode": {
    "name": "ipython",
    "version": 3
   },
   "file_extension": ".py",
   "mimetype": "text/x-python",
   "name": "python",
   "nbconvert_exporter": "python",
   "pygments_lexer": "ipython3",
   "version": "3.12.7"
  }
 },
 "nbformat": 4,
 "nbformat_minor": 5
}
