{
  "nbformat": 4,
  "nbformat_minor": 0,
  "metadata": {
    "colab": {
      "provenance": [],
      "toc_visible": true
    },
    "kernelspec": {
      "name": "python3",
      "display_name": "Python 3"
    },
    "language_info": {
      "name": "python"
    }
  },
  "cells": [
    {
      "cell_type": "code",
      "execution_count": null,
      "metadata": {
        "colab": {
          "base_uri": "https://localhost:8080/",
          "height": 782
        },
        "id": "WSaXRERnrS1e",
        "outputId": "380c2023-063c-4660-df69-2a8c35ae4597"
      },
      "outputs": [
        {
          "output_type": "stream",
          "name": "stderr",
          "text": [
            "/usr/local/lib/python3.10/dist-packages/IPython/core/pylabtools.py:151: UserWarning: Glyph 50752 (\\N{HANGUL SYLLABLE WA}) missing from current font.\n",
            "  fig.canvas.print_figure(bytes_io, **kw)\n",
            "/usr/local/lib/python3.10/dist-packages/IPython/core/pylabtools.py:151: UserWarning: Glyph 49334 (\\N{HANGUL SYLLABLE SALM}) missing from current font.\n",
            "  fig.canvas.print_figure(bytes_io, **kw)\n",
            "/usr/local/lib/python3.10/dist-packages/IPython/core/pylabtools.py:151: UserWarning: Glyph 51032 (\\N{HANGUL SYLLABLE YI}) missing from current font.\n",
            "  fig.canvas.print_figure(bytes_io, **kw)\n",
            "/usr/local/lib/python3.10/dist-packages/IPython/core/pylabtools.py:151: UserWarning: Glyph 47564 (\\N{HANGUL SYLLABLE MAN}) missing from current font.\n",
            "  fig.canvas.print_figure(bytes_io, **kw)\n",
            "/usr/local/lib/python3.10/dist-packages/IPython/core/pylabtools.py:151: UserWarning: Glyph 51313 (\\N{HANGUL SYLLABLE JOG}) missing from current font.\n",
            "  fig.canvas.print_figure(bytes_io, **kw)\n",
            "/usr/local/lib/python3.10/dist-packages/IPython/core/pylabtools.py:151: UserWarning: Glyph 46020 (\\N{HANGUL SYLLABLE DO}) missing from current font.\n",
            "  fig.canvas.print_figure(bytes_io, **kw)\n",
            "/usr/local/lib/python3.10/dist-packages/IPython/core/pylabtools.py:151: UserWarning: Glyph 44288 (\\N{HANGUL SYLLABLE GWAN}) missing from current font.\n",
            "  fig.canvas.print_figure(bytes_io, **kw)\n",
            "/usr/local/lib/python3.10/dist-packages/IPython/core/pylabtools.py:151: UserWarning: Glyph 44228 (\\N{HANGUL SYLLABLE GYE}) missing from current font.\n",
            "  fig.canvas.print_figure(bytes_io, **kw)\n"
          ]
        },
        {
          "output_type": "display_data",
          "data": {
            "text/plain": [
              "<Figure size 640x480 with 1 Axes>"
            ],
            "image/png": "[encoded data removed]"
          },
          "metadata": {}
        }
      ],
      "source": [
        "# 데이터 시각화 #\n",
        "\n",
        "import matplotlib.pyplot as plt\n",
        "import pandas as pd\n",
        "\n",
        "# 데이터 로드\n",
        "data = {\"GDP per capita (USD)\": [30000, 40000, 50000, 60000],\n",
        "        \"Life satisfaction\": [5.5, 6.0, 6.5, 7.0]}\n",
        "df = pd.DataFrame(data)\n",
        "\n",
        "# 데이터 시각화\n",
        "df.plot(kind=\"scatter\", x=\"GDP per capita (USD)\", y=\"Life satisfaction\")\n",
        "plt.title(\"GDP와 삶의 만족도 관계\")\n",
        "plt.xlabel(\"GDP per capita (USD)\")\n",
        "plt.ylabel(\"Life satisfaction\")\n",
        "plt.show()"
      ]
    },
    {
      "cell_type": "code",
      "source": [
        "# 선형 회귀 모델 #\n",
        "# 선형 회귀는 독립 변수와 종속 변수 간의 직선 관계를 모델링\n",
        "\n",
        "from sklearn.linear_model import LinearRegression\n",
        "\n",
        "# 독립 변수(X)와 종속 변수(y)\n",
        "\n",
        "# x는 1인당 GDP를 의미\n",
        "X = df[[\"GDP per capita (USD)\"]].values  # .values를 사용해 넘파이 배열로 변환\n",
        "\n",
        "# y는 삶의 만족도를 의미\n",
        "y = df[[\"Life satisfaction\"]].values\n",
        "\n",
        "# 선형 회귀 모델 생성 및 학습\n",
        "model = LinearRegression()\n",
        "model.fit(X, y)  # x와y 간의 관계를 학습하여 최적의 선형 회귀 직선을 찾음\n",
        "\n",
        "# 예측\n",
        "X_new = [[37655]]  # 키프로스의 1인당 GDP (37655 USD)를 2차원 배열 형태로 입력\n",
        "\n",
        "# 학습된 모델을 사용 -> X_new에 대한 삶의 만족도 예측값 계산\n",
        "prediction = model.predict(X_new)  # 주어진 X_new 값에 대한 예측된 y의 값 반환\n",
        "print(f\"선형 회귀 예측 결과: {prediction[0, 0]:.2f}\")\n",
        "\n",
        "# GDP 데이터를 기반으로 삶의 만족도를 예측하는 선형 회귀 모델\n",
        "# 키프로스의 GDP를 입력하여 해당 국가의 예상 삶의 만족도 추정"
      ],
      "metadata": {
        "colab": {
          "base_uri": "https://localhost:8080/"
        },
        "id": "v9koT3uHr_Wa",
        "outputId": "5077c092-1e22-472e-ae03-28fb5d2f88a2"
      },
      "execution_count": null,
      "outputs": [
        {
          "output_type": "stream",
          "name": "stdout",
          "text": [
            "선형 회귀 예측 결과: 5.88\n"
          ]
        }
      ]
    },
    {
      "cell_type": "code",
      "source": [
        "# k-최근접 이웃 회귀 #\n",
        "# **k-최근접 이웃 회귀(k-NN)**는 새로운 데이터 포인트와 가장 가까운 k개의 데이터를 사용하여 예측하는 모델\n",
        "\n",
        "# 주요 작동 원리:\n",
        "\n",
        "# 새로운 데이터와 기존 데이터 간의 거리를 계산\n",
        "# 가장 가까운 k개의 데이터를 선택\n",
        "# 선택된 데이터들의 평균을 계산하여 예측값으로 사용\n",
        "\n",
        "# k-NN의 특징 장점: 데이터 분포를 잘 반영하며, 복잡한 패턴을 다룰 수 있음. 단점: 데이터 양이 많을수록 계산 비용이 증가하며, 최적의 k 값을 찾는 것이 중요.\n",
        "\n",
        "from sklearn.neighbors import KNeighborsRegressor\n",
        "\n",
        "# k-최근접 이웃 회귀 모델 생성\n",
        "# 가장 가까운 3개의 데이터 포인트를 사용해 예측을 수행하도록 - 입력된 값 주변의 3개의 이웃을 기준으로 평균을 내어 예측값 계산\n",
        "model = KNeighborsRegressor(n_neighbors=3)\n",
        "model.fit(X, y)\n",
        "\n",
        "# 예측\n",
        "prediction_knn = model.predict(X_new)\n",
        "print(f\"k-최근접 이웃 예측 결과: {prediction_knn[0, 0]:.2f}\")\n",
        "\n",
        "# K-근접 이웃 알고리즘은 비선형 관계를 잘 모델링 할 수 있다.\n",
        "# 선형 회귀와 비교하여 더 나은 성능을 보일 수 있다. - 특히 데이터 간의 관계가 선형이 아닐 때.\n"
      ],
      "metadata": {
        "colab": {
          "base_uri": "https://localhost:8080/"
        },
        "id": "RIKdFpUxsXgb",
        "outputId": "83e87b2c-8f79-4358-af9f-f3f892cd9bf0"
      },
      "execution_count": null,
      "outputs": [
        {
          "output_type": "stream",
          "name": "stdout",
          "text": [
            "k-최근접 이웃 예측 결과: 6.00\n"
          ]
        }
      ]
    }
  ]
}