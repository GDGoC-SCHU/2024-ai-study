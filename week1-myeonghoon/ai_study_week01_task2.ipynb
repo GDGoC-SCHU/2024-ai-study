{
  "nbformat": 4,
  "nbformat_minor": 0,
  "metadata": {
    "colab": {
      "provenance": []
    },
    "kernelspec": {
      "name": "python3",
      "display_name": "Python 3"
    },
    "language_info": {
      "name": "python"
    }
  },
  "cells": [
    {
      "cell_type": "code",
      "execution_count": null,
      "metadata": {
        "colab": {
          "base_uri": "https://localhost:8080/"
        },
        "id": "KKRiYxr66emR",
        "outputId": "29af123e-66ef-44bb-d15a-06a73923448d"
      },
      "outputs": [
        {
          "output_type": "stream",
          "name": "stdout",
          "text": [
            "데이터셋 샘플:\n",
            "[[5.1 3.5 1.4 0.2]\n",
            " [4.9 3.  1.4 0.2]\n",
            " [4.7 3.2 1.3 0.2]\n",
            " [4.6 3.1 1.5 0.2]\n",
            " [5.  3.6 1.4 0.2]]\n",
            "타깃 샘플:\n",
            "[0 0 0 0 0]\n",
            "특성(shape): (150, 4)\n",
            "타깃(shape): (150,)\n",
            "모델의 정확도: 1.00\n"
          ]
        }
      ],
      "source": [
        "# 필요한 라이브러리 불러오기\n",
        "from sklearn.datasets import load_iris\n",
        "from sklearn.model_selection import train_test_split\n",
        "from sklearn.linear_model import LogisticRegression\n",
        "from sklearn.metrics import accuracy_score\n",
        "\n",
        "# 1. 데이터 탐색\n",
        "# 데이터셋 로드\n",
        "iris = load_iris()\n",
        "# iris.data -> 꽃의 특성 데이터를 포함하는 넘파이 배열\n",
        "# iris.target -> 꽃의 품종(0,1,2로 라벨링 된)을 나타내는 데이터\n",
        "x, y = iris.data, iris.target\n",
        "\n",
        "# 데이터 확인\n",
        "print(\"데이터셋 샘플:\")\n",
        "print(x[:5])  # 특성의 처음 5개 샘플\n",
        "print(\"타깃 샘플:\")\n",
        "print(y[:5])  # 타깃의 처음 5개 샘플\n",
        "print(f\"특성(shape): {x.shape}\")\n",
        "print(f\"타깃(shape): {y.shape}\")\n",
        "\n",
        "# 2. 데이터 분할\n",
        "# 데이터를 훈련 세트와 테스트 세트로 나누기\n",
        "# 테스트 데이터 비율은 20%로 설정하고, random_state=42로 고정\n",
        "x_train, x_test, y_train, y_test = train_test_split(x, y, test_size=0.2, random_state=42)\n",
        "\n",
        "# 3. 모델 정의 및 훈련\n",
        "# Logistic Regression(이진 또는 다중 클래스 분류에 사용되는 지도 학습 알고리즘) 모델 정의 및 훈련 - Scikit-learn에서 제공하는 로지스틱 회귀 모델 클래스\n",
        "# 목표는 각 클래스에 속할 확률을 추정한 후, 가장 높은 확률을 가진 클래스를 예측값으로 출력하는 것\n",
        "\n",
        "# 최대 반복 횟수(Maximum Iterations)를 설정 - (기본값은 100)max_iter를 충분히 늘려서 수렴 보장\n",
        "# 데이터가 복잡하거나 최적화가 잘 수렴하지 않을 경우 더 큰 값으로 설정 - 수렴이란, 최적화 알고리즘이 더 이상 손실 함수 값을 감소시키지 않고 안정적으로 멈추는 상태\n",
        "model = LogisticRegression(max_iter=200)\n",
        "\n",
        "# 모델 학습을 위한 메서드 - 학습 데이터(X_train, y_train)를 사용해 모델의 가중치와 절편을 최적화하여 학습\n",
        "model.fit(x_train, y_train) # X_train: 훈련 데이터의 특성(입력값) / y_train: 훈련 데이터의 타깃(정답 레이블)\n",
        "\n",
        "# 4. 예측 및 평가\n",
        "# 테스트 데이터를 사용하여 예측\n",
        "y_pred = model.predict(x_test)\n",
        "\n",
        "# 예측 결과를 기반으로 정확도 출력\n",
        "accuracy = accuracy_score(y_test, y_pred)\n",
        "print(f\"모델의 정확도: {accuracy:.2f}\")\n"
      ]
    }
  ]
}