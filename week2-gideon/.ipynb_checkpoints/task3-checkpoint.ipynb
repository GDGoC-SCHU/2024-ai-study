{
 "cells": [
  {
   "cell_type": "code",
   "execution_count": 25,
   "id": "f7920aba-b80c-4f06-89ad-ff2d14a0e9e1",
   "metadata": {},
   "outputs": [
    {
     "name": "stdout",
     "output_type": "stream",
     "text": [
      "X: (8000, 2)\n",
      "Y: (8000,)\n"
     ]
    }
   ],
   "source": [
    "from sklearn.tree import DecisionTreeClassifier\n",
    "from sklearn.model_selection import GridSearchCV, train_test_split, ShuffleSplit\n",
    "from sklearn.metrics import accuracy_score\n",
    "from sklearn.base import clone\n",
    "from scipy.stats import mode\n",
    "from sklearn.datasets import make_moons\n",
    "\n",
    "X, Y = make_moons(n_samples=10000, noise=0.4, random_state=42)\n",
    "X_train, X_test, Y_train, Y_test = train_test_split(X, Y, test_size=0.2, random_state=42)\n",
    "\n",
    "print(f'X: {X_train.shape}')\n",
    "print(f'Y: {Y_train.shape}')\n"
   ]
  },
  {
   "cell_type": "code",
   "execution_count": 27,
   "id": "3d67a058-2081-432c-85ec-e6c85f687d8a",
   "metadata": {},
   "outputs": [
    {
     "name": "stdout",
     "output_type": "stream",
     "text": [
      "Best Parameters: {'max_depth': 10, 'max_leaf_nodes': 30, 'min_samples_split': 2}\n",
      "Best Training Accuracy: 0.85975\n"
     ]
    }
   ],
   "source": [
    "param_grid = {\n",
    "    'max_depth': [3, 5, 6, 8, 10],\n",
    "    'max_leaf_nodes': [10, 20, 30, 40],\n",
    "    'min_samples_split': [2, 5, 10]\n",
    "}\n",
    "\n",
    "dt = DecisionTreeClassifier(random_state=42)\n",
    "grid_search = GridSearchCV(estimator=dt, param_grid=param_grid, cv=10, scoring='accuracy', n_jobs=-1)\n",
    "grid_search.fit(X_train, Y_train)\n",
    "\n",
    "best_params = grid_search.best_params_\n",
    "best_accuracy = grid_search.best_score_\n",
    "print(\"Best Parameters:\", best_params)\n",
    "print(\"Best Training Accuracy:\", best_accuracy)"
   ]
  },
  {
   "cell_type": "code",
   "execution_count": 28,
   "id": "9c7962ba-46d3-4be7-ba58-e13b16edf347",
   "metadata": {},
   "outputs": [
    {
     "name": "stdout",
     "output_type": "stream",
     "text": [
      "Test Accuracy with Best Parameters: 0.8735\n"
     ]
    }
   ],
   "source": [
    "y_pred = grid_search.predict(X_test)\n",
    "test_accuracy = accuracy_score(Y_test, y_pred)\n",
    "print(\"Test Accuracy with Best Parameters:\", test_accuracy)"
   ]
  },
  {
   "cell_type": "code",
   "execution_count": 31,
   "id": "0350814d-4342-4bec-b463-08a6981fe19c",
   "metadata": {},
   "outputs": [
    {
     "name": "stdout",
     "output_type": "stream",
     "text": [
      "Average Single Tree Accuracy: 0.797075\n"
     ]
    }
   ],
   "source": [
    "n_trees = 100\n",
    "n_instances = 100\n",
    "mini_sets = []\n",
    "rs = ShuffleSplit(n_splits=n_trees, test_size=len(X_train) - n_instances, random_state=42)\n",
    "\n",
    "for mini_train_index, _ in rs.split(X_train):\n",
    "    X_mini_train = X_train[mini_train_index]\n",
    "    y_mini_train = Y_train[mini_train_index]\n",
    "    mini_sets.append((X_mini_train, y_mini_train))\n",
    "\n",
    "forest = [clone(grid_search.best_estimator_) for _ in range(n_trees)]\n",
    "accuracy_scores = []\n",
    "\n",
    "for tree, (X_mini_train, y_mini_train) in zip(forest, mini_sets):\n",
    "    tree.fit(X_mini_train, y_mini_train)\n",
    "    y_pred = tree.predict(X_test)\n",
    "    accuracy_scores.append(accuracy_score(Y_test, y_pred))\n",
    "\n",
    "average_single_tree_accuracy = np.mean(accuracy_scores)\n",
    "print(\"Average Single Tree Accuracy:\", average_single_tree_accuracy)"
   ]
  },
  {
   "cell_type": "code",
   "execution_count": 33,
   "id": "56c1b73e-6115-4447-9363-f307a1fc32d6",
   "metadata": {},
   "outputs": [
    {
     "name": "stdout",
     "output_type": "stream",
     "text": [
      "Ensemble Accuracy: 0.872\n"
     ]
    }
   ],
   "source": [
    "Y_pred = np.empty([n_trees, len(X_test)], dtype=np.uint8)\n",
    "for tree_index, tree in enumerate(forest):\n",
    "    Y_pred[tree_index] = tree.predict(X_test)\n",
    "\n",
    "y_pred_majority_votes, _ = mode(Y_pred, axis=0)\n",
    "y_pred_majority_votes = y_pred_majority_votes.reshape([-1])\n",
    "ensemble_accuracy = accuracy_score(Y_test, y_pred_majority_votes)\n",
    "\n",
    "print(\"Ensemble Accuracy:\", ensemble_accuracy)"
   ]
  },
  {
   "cell_type": "code",
   "execution_count": null,
   "id": "304c3afd-d2c4-42e6-afc6-479b4dbd10db",
   "metadata": {},
   "outputs": [],
   "source": []
  }
 ],
 "metadata": {
  "kernelspec": {
   "display_name": "Python [conda env:base] *",
   "language": "python",
   "name": "conda-base-py"
  },
  "language_info": {
   "codemirror_mode": {
    "name": "ipython",
    "version": 3
   },
   "file_extension": ".py",
   "mimetype": "text/x-python",
   "name": "python",
   "nbconvert_exporter": "python",
   "pygments_lexer": "ipython3",
   "version": "3.12.7"
  }
 },
 "nbformat": 4,
 "nbformat_minor": 5
}
