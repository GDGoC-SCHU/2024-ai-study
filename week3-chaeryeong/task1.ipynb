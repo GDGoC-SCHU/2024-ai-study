rom google.colab import drive
import pandas as pd
from sklearn.model_selection import train_test_split
from sklearn.tree import DecisionTreeClassifier
from sklearn.ensemble import RandomForestClassifier
from sklearn.metrics import accuracy_score, confusion_matrix, ConfusionMatrixDisplay
import matplotlib.pyplot as plt
import seaborn as sns

# 파일 업로드
drive.mount('/content/drive')
file_path = "/content/drive/My Drive/car_evaluation.csv"
data = pd.read_csv(file_path)

print("Data Head:\n", data.head())
print("\nData Info:\n", data.info())

# 범주형 데이터를 숫자로 변환
data_encoded = pd.get_dummies(data, drop_first=True)

# 특성과 타깃 분리
X = data_encoded.drop('class', axis=1) if 'class' in data_encoded.columns else data_encoded.iloc[:, :-1]
y = data_encoded['class'] if 'class' in data_encoded.columns else data_encoded.iloc[:, -1]

# 분할
X_train, X_test, y_train, y_test = train_test_split(X, y, test_size=0.2, random_state=42)

# 모델 학습
# 의사결정트리
dt_model = DecisionTreeClassifier(random_state=42)
dt_model.fit(X_train, y_train)
dt_accuracy = accuracy_score(y_test, dt_model.predict(X_test))

# 랜덤포레스트
rf_model = RandomForestClassifier(random_state=42)
rf_model.fit(X_train, y_train)
rf_accuracy = accuracy_score(y_test, rf_model.predict(X_test))

print(f"Decision Tree Accuracy: {dt_accuracy:.4f}")
print(f"Random Forest Accuracy: {rf_accuracy:.4f}")

# 결과 시각화
# 1. 정확도 비교
plt.figure(figsize=(8, 6))
models = ['Decision Tree', 'Random Forest']
accuracies = [dt_accuracy, rf_accuracy]
sns.barplot(x=models, y=accuracies)
plt.title('Model Accuracy Comparison')
plt.ylabel('Accuracy')
plt.show()

# 2. Confusion Matrix 시각화
for model, name in zip([dt_model, rf_model], ['Decision Tree', 'Random Forest']):
    plt.figure(figsize=(8, 6))
    cm = confusion_matrix(y_test, model.predict(X_test))
    ConfusionMatrixDisplay(confusion_matrix=cm, display_labels=model.classes_).plot(cmap='Blues', ax=plt.gca())
    plt.title(f'Confusion Matrix - {name}')
    plt.show()

# 3. 특성 중요도 시각화 (랜덤포레스트)
plt.figure(figsize=(10, 8))
importances = rf_model.feature_importances_
sns.barplot(x=importances, y=X.columns)
plt.title('Feature Importance (Random Forest)')
plt.xlabel('Importance Score')
plt.ylabel('Features')
plt.show()

# 성능 우수 모델
best_model = 'Random Forest' if rf_accuracy > dt_accuracy else 'Decision Tree'
print(f"The better performing model : {best_model}")
