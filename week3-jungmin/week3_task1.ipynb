{
  "nbformat": 4,
  "nbformat_minor": 0,
  "metadata": {
    "colab": {
      "provenance": []
    },
    "kernelspec": {
      "name": "python3",
      "display_name": "Python 3"
    },
    "language_info": {
      "name": "python"
    }
  },
  "cells": [
    {
      "cell_type": "markdown",
      "source": [
        "> 시작하기 전에\n",
        "\n",
        "아래 참고자료를 활용하였습니다.\n",
        "\n",
        "- 2024-1 DSC공유대학 모빌리티 AI/SW 과정 '딥러닝'\n",
        "- 2024-2 순천향대학교 컴퓨터소프트웨어공학과 '머신러닝'\n",
        "- [싸이킷런 데이터 전처리 스케일 조정(스케일러)](https://m.blog.naver.com/PostView.naver?isHttpsRedirect=true&blogId=demian7607&logNo=222009975984)\n",
        "- [Google Colab 데이터 업로드 및 활용](https://stackoverflow.com/questions/52761829/how-do-i-upload-my-own-data-for-tensor-flow-using-google-colab)\n",
        "- [CSV 파일 가져오는 법(사용하지 않음)](https://ericabae.medium.com/tensorflow-2-0-csv-%ED%8C%8C%EC%9D%BC-%ED%98%95%EC%8B%9D-%EB%8D%B0%EC%9D%B4%ED%84%B0-%EA%B0%80%EC%A0%B8%EC%98%A4%EA%B8%B0-eddaa88d3112)\n",
        "- [레이블 없을 때의 `train_test_split`](https://hye0archive.tistory.com/8)\n",
        "- [Label Encoding](https://velog.io/@hhhs101/%EB%8D%B0%EC%9D%B4%ED%84%B0-%EC%9D%B8%EC%BD%94%EB%94%A9-Label-Encoding-One-hot-Encodingdummies)\n",
        "- [마지막 열 제외하기](https://velog.io/@hhhs101/%EB%8D%B0%EC%9D%B4%ED%84%B0-%EC%9D%B8%EC%BD%94%EB%94%A9-Label-Encoding-One-hot-Encodingdummies)\n",
        "- [마지막 열만 선택하기](https://stackoverflow.com/questions/40144769/how-to-select-the-last-column-of-dataframe)\n",
        "- [Confusion Matrix 그리기](https://joungnx123.tistory.com/entry/%ED%98%BC%EB%8F%99-%ED%96%89%EB%A0%AC-Confusion-matrix-%EC%A7%81%EC%A0%91-%EA%B5%AC%ED%98%84%ED%95%98%EA%B8%B0)"
      ],
      "metadata": {
        "id": "6ojp-6VxntjM"
      }
    },
    {
      "cell_type": "markdown",
      "source": [
        "## 데이터 업로드\n",
        "\n",
        "Google Colab에서는 런타임 종료 시 파일이 삭제되므로, 매번 업로드하도록 구성하였다."
      ],
      "metadata": {
        "id": "9cC9jQ8gnISN"
      }
    },
    {
      "cell_type": "code",
      "execution_count": 2,
      "metadata": {
        "id": "pTHUp3dwCPk2",
        "colab": {
          "base_uri": "https://localhost:8080/",
          "height": 109
        },
        "outputId": "4255f868-1442-4f6f-db3f-bbce944afef1"
      },
      "outputs": [
        {
          "output_type": "stream",
          "name": "stdout",
          "text": [
            "car_evaluation.csv 파일을 업로드해주세요.\n"
          ]
        },
        {
          "output_type": "display_data",
          "data": {
            "text/plain": [
              "<IPython.core.display.HTML object>"
            ],
            "text/html": [
              "\n",
              "     <input type=\"file\" id=\"files-298118f9-866d-4e21-81b8-9d1664531085\" name=\"files[]\" multiple disabled\n",
              "        style=\"border:none\" />\n",
              "     <output id=\"result-298118f9-866d-4e21-81b8-9d1664531085\">\n",
              "      Upload widget is only available when the cell has been executed in the\n",
              "      current browser session. Please rerun this cell to enable.\n",
              "      </output>\n",
              "      <script>// Copyright 2017 Google LLC\n",
              "//\n",
              "// Licensed under the Apache License, Version 2.0 (the \"License\");\n",
              "// you may not use this file except in compliance with the License.\n",
              "// You may obtain a copy of the License at\n",
              "//\n",
              "//      http://www.apache.org/licenses/LICENSE-2.0\n",
              "//\n",
              "// Unless required by applicable law or agreed to in writing, software\n",
              "// distributed under the License is distributed on an \"AS IS\" BASIS,\n",
              "// WITHOUT WARRANTIES OR CONDITIONS OF ANY KIND, either express or implied.\n",
              "// See the License for the specific language governing permissions and\n",
              "// limitations under the License.\n",
              "\n",
              "/**\n",
              " * @fileoverview Helpers for google.colab Python module.\n",
              " */\n",
              "(function(scope) {\n",
              "function span(text, styleAttributes = {}) {\n",
              "  const element = document.createElement('span');\n",
              "  element.textContent = text;\n",
              "  for (const key of Object.keys(styleAttributes)) {\n",
              "    element.style[key] = styleAttributes[key];\n",
              "  }\n",
              "  return element;\n",
              "}\n",
              "\n",
              "// Max number of bytes which will be uploaded at a time.\n",
              "const MAX_PAYLOAD_SIZE = 100 * 1024;\n",
              "\n",
              "function _uploadFiles(inputId, outputId) {\n",
              "  const steps = uploadFilesStep(inputId, outputId);\n",
              "  const outputElement = document.getElementById(outputId);\n",
              "  // Cache steps on the outputElement to make it available for the next call\n",
              "  // to uploadFilesContinue from Python.\n",
              "  outputElement.steps = steps;\n",
              "\n",
              "  return _uploadFilesContinue(outputId);\n",
              "}\n",
              "\n",
              "// This is roughly an async generator (not supported in the browser yet),\n",
              "// where there are multiple asynchronous steps and the Python side is going\n",
              "// to poll for completion of each step.\n",
              "// This uses a Promise to block the python side on completion of each step,\n",
              "// then passes the result of the previous step as the input to the next step.\n",
              "function _uploadFilesContinue(outputId) {\n",
              "  const outputElement = document.getElementById(outputId);\n",
              "  const steps = outputElement.steps;\n",
              "\n",
              "  const next = steps.next(outputElement.lastPromiseValue);\n",
              "  return Promise.resolve(next.value.promise).then((value) => {\n",
              "    // Cache the last promise value to make it available to the next\n",
              "    // step of the generator.\n",
              "    outputElement.lastPromiseValue = value;\n",
              "    return next.value.response;\n",
              "  });\n",
              "}\n",
              "\n",
              "/**\n",
              " * Generator function which is called between each async step of the upload\n",
              " * process.\n",
              " * @param {string} inputId Element ID of the input file picker element.\n",
              " * @param {string} outputId Element ID of the output display.\n",
              " * @return {!Iterable<!Object>} Iterable of next steps.\n",
              " */\n",
              "function* uploadFilesStep(inputId, outputId) {\n",
              "  const inputElement = document.getElementById(inputId);\n",
              "  inputElement.disabled = false;\n",
              "\n",
              "  const outputElement = document.getElementById(outputId);\n",
              "  outputElement.innerHTML = '';\n",
              "\n",
              "  const pickedPromise = new Promise((resolve) => {\n",
              "    inputElement.addEventListener('change', (e) => {\n",
              "      resolve(e.target.files);\n",
              "    });\n",
              "  });\n",
              "\n",
              "  const cancel = document.createElement('button');\n",
              "  inputElement.parentElement.appendChild(cancel);\n",
              "  cancel.textContent = 'Cancel upload';\n",
              "  const cancelPromise = new Promise((resolve) => {\n",
              "    cancel.onclick = () => {\n",
              "      resolve(null);\n",
              "    };\n",
              "  });\n",
              "\n",
              "  // Wait for the user to pick the files.\n",
              "  const files = yield {\n",
              "    promise: Promise.race([pickedPromise, cancelPromise]),\n",
              "    response: {\n",
              "      action: 'starting',\n",
              "    }\n",
              "  };\n",
              "\n",
              "  cancel.remove();\n",
              "\n",
              "  // Disable the input element since further picks are not allowed.\n",
              "  inputElement.disabled = true;\n",
              "\n",
              "  if (!files) {\n",
              "    return {\n",
              "      response: {\n",
              "        action: 'complete',\n",
              "      }\n",
              "    };\n",
              "  }\n",
              "\n",
              "  for (const file of files) {\n",
              "    const li = document.createElement('li');\n",
              "    li.append(span(file.name, {fontWeight: 'bold'}));\n",
              "    li.append(span(\n",
              "        `(${file.type || 'n/a'}) - ${file.size} bytes, ` +\n",
              "        `last modified: ${\n",
              "            file.lastModifiedDate ? file.lastModifiedDate.toLocaleDateString() :\n",
              "                                    'n/a'} - `));\n",
              "    const percent = span('0% done');\n",
              "    li.appendChild(percent);\n",
              "\n",
              "    outputElement.appendChild(li);\n",
              "\n",
              "    const fileDataPromise = new Promise((resolve) => {\n",
              "      const reader = new FileReader();\n",
              "      reader.onload = (e) => {\n",
              "        resolve(e.target.result);\n",
              "      };\n",
              "      reader.readAsArrayBuffer(file);\n",
              "    });\n",
              "    // Wait for the data to be ready.\n",
              "    let fileData = yield {\n",
              "      promise: fileDataPromise,\n",
              "      response: {\n",
              "        action: 'continue',\n",
              "      }\n",
              "    };\n",
              "\n",
              "    // Use a chunked sending to avoid message size limits. See b/62115660.\n",
              "    let position = 0;\n",
              "    do {\n",
              "      const length = Math.min(fileData.byteLength - position, MAX_PAYLOAD_SIZE);\n",
              "      const chunk = new Uint8Array(fileData, position, length);\n",
              "      position += length;\n",
              "\n",
              "      const base64 = btoa(String.fromCharCode.apply(null, chunk));\n",
              "      yield {\n",
              "        response: {\n",
              "          action: 'append',\n",
              "          file: file.name,\n",
              "          data: base64,\n",
              "        },\n",
              "      };\n",
              "\n",
              "      let percentDone = fileData.byteLength === 0 ?\n",
              "          100 :\n",
              "          Math.round((position / fileData.byteLength) * 100);\n",
              "      percent.textContent = `${percentDone}% done`;\n",
              "\n",
              "    } while (position < fileData.byteLength);\n",
              "  }\n",
              "\n",
              "  // All done.\n",
              "  yield {\n",
              "    response: {\n",
              "      action: 'complete',\n",
              "    }\n",
              "  };\n",
              "}\n",
              "\n",
              "scope.google = scope.google || {};\n",
              "scope.google.colab = scope.google.colab || {};\n",
              "scope.google.colab._files = {\n",
              "  _uploadFiles,\n",
              "  _uploadFilesContinue,\n",
              "};\n",
              "})(self);\n",
              "</script> "
            ]
          },
          "metadata": {}
        },
        {
          "output_type": "stream",
          "name": "stdout",
          "text": [
            "Saving car_evaluation.csv to car_evaluation.csv\n",
            "Uploaded File 'car_evaluation.csv'\n"
          ]
        }
      ],
      "source": [
        "from google.colab import files\n",
        "\n",
        "print(\"car_evaluation.csv 파일을 업로드해주세요.\")\n",
        "uploaded = files.upload()\n",
        "\n",
        "for fn in uploaded.keys():\n",
        "  print(\"Uploaded File '{name}'\".format(name = fn))"
      ]
    },
    {
      "cell_type": "markdown",
      "source": [
        "## 업로드한 데이터 확인"
      ],
      "metadata": {
        "id": "oFnEnrxenDkp"
      }
    },
    {
      "cell_type": "code",
      "source": [
        "!head car_evaluation.csv"
      ],
      "metadata": {
        "colab": {
          "base_uri": "https://localhost:8080/"
        },
        "id": "eGMS3PlmIsBL",
        "outputId": "b4f8c1c8-88c4-4c78-ba86-7f521288362b"
      },
      "execution_count": 3,
      "outputs": [
        {
          "output_type": "stream",
          "name": "stdout",
          "text": [
            "vhigh,vhigh,2,2,small,low,unacc\r\n",
            "vhigh,vhigh,2,2,small,med,unacc\r\n",
            "vhigh,vhigh,2,2,small,high,unacc\r\n",
            "vhigh,vhigh,2,2,med,low,unacc\r\n",
            "vhigh,vhigh,2,2,med,med,unacc\r\n",
            "vhigh,vhigh,2,2,med,high,unacc\r\n",
            "vhigh,vhigh,2,2,big,low,unacc\r\n",
            "vhigh,vhigh,2,2,big,med,unacc\r\n",
            "vhigh,vhigh,2,2,big,high,unacc\r\n",
            "vhigh,vhigh,2,4,small,low,unacc\r\n"
          ]
        }
      ]
    },
    {
      "cell_type": "markdown",
      "source": [
        "## 데이터 전처리\n",
        "\n",
        "`pandas` 라이브러리를 이용하여 CSV 파일을 읽고, LabelEncoder로 범주형 데이터를 숫자 형태의 데이터로 변환한다.\n",
        "\n",
        "- OneHotEncoder를 사용하려고 하였으나, 데이터 차원이 호환되지 않아 변경하였다.\n",
        "- LabelEncoding은 선형 회귀 등에선 예측 성능이 떨어는 경우가 있어 적용하지 않으나, 이번 예시와 같이 트리 계열의 알고리즘 이용에는 문제가 없다.\n",
        "- LabelEncoding을 여러 행에 적용해야 하므로 for문을 사용하되, DataFrame의 Column만 추출하는 메서드를 활용한다.\n",
        "- 데이터에 대한 설명이 전혀 없어 어떤 의미인지 알기 어려우나, `unacc`는 정황상 unaccepted, `vgood`은 very good을 의미하는 것으로 보여 마지막 열이 결과인 것으로 추정하여 데이터를 준비하였다."
      ],
      "metadata": {
        "id": "LUbv7b8anNlG"
      }
    },
    {
      "cell_type": "code",
      "source": [
        "import io\n",
        "import tensorflow as tf\n",
        "import numpy as np\n",
        "import pandas as pd\n",
        "from sklearn.preprocessing import LabelEncoder\n",
        "from sklearn.model_selection import train_test_split\n",
        "\n",
        "# 파일 읽기 및 Label Encoder로 데이터 변환\n",
        "data = pd.read_csv(io.StringIO(uploaded['car_evaluation.csv'].decode('utf-8')))\n",
        "\n",
        "le = LabelEncoder()\n",
        "data = data.apply(le.fit_transform)\n",
        "\n",
        "\n",
        "# 데이터 준비. 마지막 열을 레이블로 지정\n",
        "x_train, x_test, y_train, y_test = train_test_split(data.iloc[:, :-1], data.iloc[:, -1], test_size=0.2, random_state=42)"
      ],
      "metadata": {
        "id": "ieq89UAJH81A"
      },
      "execution_count": 4,
      "outputs": []
    },
    {
      "cell_type": "markdown",
      "source": [
        "## 모델 학습\n"
      ],
      "metadata": {
        "id": "mw-_b-C2naSk"
      }
    },
    {
      "cell_type": "markdown",
      "source": [
        "\n",
        "### 의사결정트리(의사결정나무)\n",
        "\n",
        "> Decision Tree\n",
        "\n",
        "데이터를 트리 구조로 나눠 예측 구조를 만드는 분류 기법의 알고리즘으로, 각 노드에서 특정 조건으로 데이터를 분할하고 최종 노드에서 결과를 예측한다.\n",
        "\n",
        "각 트리는 정해진 기준에 따라 가지치기한다. 따라서, 한쪽 가지에 비슷한 클래스가 모여있으면 좋은 모델로 평가한다. 트리 구조로 표현이 가능하므로, 단순하면서도 직관적이고 해석이 쉽다는 장점을 갖는다.\n",
        "\n",
        "다만, 과적합 발생 가능성이 다소 높다."
      ],
      "metadata": {
        "id": "8tkfmBewh9vV"
      }
    },
    {
      "cell_type": "code",
      "source": [
        "from sklearn.tree import DecisionTreeClassifier\n",
        "from sklearn.metrics import accuracy_score\n",
        "\n",
        "# 모델 사용\n",
        "dt = DecisionTreeClassifier(random_state=42)\n",
        "dt.fit(x_train, y_train)\n",
        "dt_res = dt.predict(x_test)\n",
        "\n",
        "# 모델 정확도 측정\n",
        "dt_score = accuracy_score(y_test, dt_res)"
      ],
      "metadata": {
        "id": "jVQTIBRopGWA"
      },
      "execution_count": 5,
      "outputs": []
    },
    {
      "cell_type": "markdown",
      "source": [
        "### Random Forest\n",
        "\n",
        "- 여러 개의 결정 트리를 결합한 앙상블 학습 방법.\n",
        "- 단일 결정 트리에 비해 과적합이 덜하고 분산, 편향을 줄여 일반화 성능을 높인다.\n",
        "- 앙상블 방식 중 병렬 학습 결과를 다수결 혹은 평균으로 결정하는 배깅(Bagging) 방식을 사용한다.\n",
        "\n",
        "> 앙상블이란 여러 방식의 모델을 혼합하여 더 좋은 결과를 도모하는 방식으로, 서로 다른 알고리즘으로 예측한 결과를 다수결이나 평균으로 결정하는 Voting, 같은 알고리즘을 사용하면서 앞선 결과로 다음 학습기가 순차 학습해 오차를 줄여나가는 부스팅(Boosting) 방식 등이 있다.\n",
        "\n",
        "#### 작동 원리\n",
        "\n",
        "- 데이터 샘플링 - 훈련 데이터의 랜덤 서브셋 생성(bootstrap sampling)\n",
        "- 랜덤성 도입 - 각 트리가 서로 다른 특성 집합 사용\n",
        "- 다수결 - 모든 트리의 예측 결과를 결합해 최종 예측 (앙상블의 특성)"
      ],
      "metadata": {
        "id": "fefRronIhXAa"
      }
    },
    {
      "cell_type": "code",
      "source": [
        "from sklearn.ensemble import RandomForestClassifier\n",
        "\n",
        "rf = RandomForestClassifier(random_state=42)\n",
        "rf.fit(x_train, y_train)\n",
        "rf_res = rf.predict(x_test)\n",
        "\n",
        "rf_score = accuracy_score(y_test, rf_res)"
      ],
      "metadata": {
        "id": "jWdeeGs9h7ZW"
      },
      "execution_count": 6,
      "outputs": []
    },
    {
      "cell_type": "markdown",
      "source": [
        "## 결과 시각화\n",
        "\n",
        "- 정확도 비교\n",
        "- Confusion Matrix\n",
        "- 특성 중요도 계산"
      ],
      "metadata": {
        "id": "b7Ja29NYiYvM"
      }
    },
    {
      "cell_type": "code",
      "source": [
        "import matplotlib.pyplot as plt\n",
        "from sklearn.metrics import confusion_matrix\n",
        "import seaborn as sns\n",
        "\n",
        "# 정확도 비교\n",
        "plt.bar(np.arange(2), [dt_score, rf_score], color=['b', 'g'])\n",
        "plt.ylim(0.8, 1.0)\n",
        "plt.xticks(np.arange(2), ['Decision Tree', 'Random Forest'])\n",
        "plt.show()\n",
        "\n",
        "# Confusion Matrix\n",
        "cm = confusion_matrix(y_test, rf_res, labels=[0, 1])\n",
        "sns.heatmap(cm, annot=True, cmap=\"Blues\")\n",
        "plt.xlabel(\"Predicted\")\n",
        "plt.ylabel(\"True\")\n",
        "plt.title(\"Confusion Matrix\")\n",
        "plt.show()\n",
        "\n",
        "# 특성 중요도 계산\n",
        "feature_importances = pd.Series(rf.feature_importances_, index=rf.feature_names_in_)\n",
        "plt.title(\"Feature Importances\")\n",
        "sns.barplot(x=feature_importances, y=feature_importances.index)\n",
        "plt.show()"
      ],
      "metadata": {
        "colab": {
          "base_uri": "https://localhost:8080/",
          "height": 1000
        },
        "id": "kUuQbSKLiinG",
        "outputId": "6226e6a7-af7e-4e25-fd89-2c70caea4c71"
      },
      "execution_count": 7,
      "outputs": [
        {
          "output_type": "display_data",
          "data": {
            "text/plain": [
              "<Figure size 640x480 with 1 Axes>"
            ],
            "image/png": "[encoded data removed]"
          },
          "metadata": {}
        },
        {
          "output_type": "display_data",
          "data": {
            "text/plain": [
              "<Figure size 640x480 with 2 Axes>"
            ],
            "image/png": "[encoded data removed]"
          },
          "metadata": {}
        },
        {
          "output_type": "display_data",
          "data": {
            "text/plain": [
              "<Figure size 640x480 with 1 Axes>"
            ],
            "image/png": "[encoded data removed]"
          },
          "metadata": {}
        }
      ]
    },
    {
      "cell_type": "markdown",
      "source": [
        "이를 통해 Random Forest 방식보다 단일 Decision Tree 방식이 약간 더 높은 정확도를 보인 것을 확인할 수 있다. 그러나, Random Forest가 본래 여러 트리를 모아 안정성을 높이는 기법임을 고려할 때 이는 의사결정트리가 더 훌륭한 방식이라서, 라기보다는 train data에 더 가깝게 적합되었기 때문으로 보인다."
      ],
      "metadata": {
        "id": "C7zvdGMWls5Z"
      }
    }
  ]
}