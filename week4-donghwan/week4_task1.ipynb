{
  "nbformat": 4,
  "nbformat_minor": 0,
  "metadata": {
    "colab": {
      "provenance": []
    },
    "kernelspec": {
      "name": "python3",
      "display_name": "Python 3"
    },
    "language_info": {
      "name": "python"
    }
  },
  "cells": [
    {
      "cell_type": "code",
      "execution_count": 7,
      "metadata": {
        "colab": {
          "base_uri": "https://localhost:8080/"
        },
        "id": "kWi6wFF6FaNo",
        "outputId": "37d8593b-6419-41f4-d8d7-458d8e446f04"
      },
      "outputs": [
        {
          "output_type": "stream",
          "name": "stderr",
          "text": [
            "/usr/local/lib/python3.10/dist-packages/keras/src/layers/core/dense.py:87: UserWarning: Do not pass an `input_shape`/`input_dim` argument to a layer. When using Sequential models, prefer using an `Input(shape)` object as the first layer in the model instead.\n",
            "  super().__init__(activity_regularizer=activity_regularizer, **kwargs)\n"
          ]
        },
        {
          "output_type": "stream",
          "name": "stdout",
          "text": [
            "Epoch 1/5\n",
            "\u001b[1m938/938\u001b[0m \u001b[32m━━━━━━━━━━━━━━━━━━━━\u001b[0m\u001b[37m\u001b[0m \u001b[1m12s\u001b[0m 9ms/step - accuracy: 0.8538 - loss: 0.5109\n",
            "Epoch 2/5\n",
            "\u001b[1m938/938\u001b[0m \u001b[32m━━━━━━━━━━━━━━━━━━━━\u001b[0m\u001b[37m\u001b[0m \u001b[1m9s\u001b[0m 8ms/step - accuracy: 0.9659 - loss: 0.1165\n",
            "Epoch 3/5\n",
            "\u001b[1m938/938\u001b[0m \u001b[32m━━━━━━━━━━━━━━━━━━━━\u001b[0m\u001b[37m\u001b[0m \u001b[1m9s\u001b[0m 10ms/step - accuracy: 0.9742 - loss: 0.0849\n",
            "Epoch 4/5\n",
            "\u001b[1m938/938\u001b[0m \u001b[32m━━━━━━━━━━━━━━━━━━━━\u001b[0m\u001b[37m\u001b[0m \u001b[1m10s\u001b[0m 9ms/step - accuracy: 0.9806 - loss: 0.0646\n",
            "Epoch 5/5\n",
            "\u001b[1m938/938\u001b[0m \u001b[32m━━━━━━━━━━━━━━━━━━━━\u001b[0m\u001b[37m\u001b[0m \u001b[1m8s\u001b[0m 8ms/step - accuracy: 0.9820 - loss: 0.0581\n",
            "\u001b[1m313/313\u001b[0m \u001b[32m━━━━━━━━━━━━━━━━━━━━\u001b[0m\u001b[37m\u001b[0m \u001b[1m1s\u001b[0m 2ms/step - accuracy: 0.9746 - loss: 0.0900\n",
            "Test accuracy: 0.9801999926567078\n",
            "Test loss: 0.0712171122431755\n"
          ]
        }
      ],
      "source": [
        "import tensorflow as tf\n",
        "from tensorflow.keras.models import Sequential\n",
        "from tensorflow.keras.layers import Dense, BatchNormalization, ReLU, Dropout\n",
        "\n",
        "# 배치 정규화를 포함한 딥러닝 모델 정의 함수\n",
        "def create_model():\n",
        "    model = Sequential([\n",
        "        # TODO: 첫 번째 Dense 층(유닛 수: 256)과 적절한 입력 형태를 추가하세요.\n",
        "        Dense(256, input_shape=(784,)),\n",
        "\n",
        "        # TODO: 첫 번째 Dense 층 다음에 배치 정규화를 추가하세요.\n",
        "        BatchNormalization(),\n",
        "\n",
        "        # TODO: 첫 번째 배치 정규화 다음에 ReLU 활성화 함수를 추가하세요.\n",
        "        ReLU(),\n",
        "\n",
        "        # TODO: 유닛 수가 128인 Dense 층을 추가하세요.\n",
        "        Dense(128),\n",
        "\n",
        "        # 해당 층에 배치 정규화와 ReLU를 추가합니다.\n",
        "        BatchNormalization(),\n",
        "        ReLU(),\n",
        "\n",
        "        # TODO: 유닛 수가 128인 Dense 층을 추가하세요.\n",
        "        Dense(128),\n",
        "\n",
        "        # TODO: 드롭아웃 층(드롭아웃 비율: 0.3)을 추가하세요.\n",
        "        Dropout(0.3),\n",
        "\n",
        "        # 해당 층에 배치 정규화와 ReLU를 추가합니다.\n",
        "        BatchNormalization(),\n",
        "        ReLU(),\n",
        "\n",
        "        # TODO: 유닛 수가 64인 Dense 층을 추가하세요.\n",
        "        Dense(64),\n",
        "\n",
        "        # 해당 층에 배치 정규화와 ReLU를 추가합니다.\n",
        "        BatchNormalization(),\n",
        "        ReLU(),\n",
        "\n",
        "        # TODO: 유닛 수가 10인 출력층(Dense)과 softmax 활성화 함수를 추가하세요.\n",
        "        Dense(10, activation='softmax')\n",
        "\n",
        "    ])\n",
        "    return model\n",
        "\n",
        "# MNIST 데이터셋을 로드하고 전처리합니다.\n",
        "(x_train, y_train), (x_test, y_test) = tf.keras.datasets.mnist.load_data()\n",
        "\n",
        "# TODO: 데이터 형태를 (784,)로 변환하고, 0~1 범위로 정규화하세요.\n",
        "x_train = x_train.reshape(-1,784).astype('float32') / 255.0\n",
        "x_test = x_test.reshape(-1,784).astype('float32') / 255.0\n",
        "\n",
        "# TODO: Adam 옵티마이저, sparse categorical crossentropy 손실 함수, accuracy 메트릭으로 모델을 컴파일하세요.\n",
        "model = create_model()\n",
        "model.compile(\n",
        "    optimizer = 'adam',\n",
        "    loss = 'sparse_categorical_crossentropy',\n",
        "    metrics = ['accuracy']\n",
        ")\n",
        "\n",
        "# TODO: 배치 크기를 64로, 에포크 수를 5로 설정하여 모델을 훈련하세요.\n",
        "model.fit(x_train, y_train, batch_size=64, epochs = 5)\n",
        "\n",
        "\n",
        "# TODO: 모델을 평가하고 테스트 정확도를 출력하세요.\n",
        "test_loss, test_acc = model.evaluate(x_test, y_test)\n",
        "\n",
        "print(f\"Test accuracy: {test_acc}\")\n",
        "print(f\"Test loss: {test_loss}\")"
      ]
    }
  ]
}