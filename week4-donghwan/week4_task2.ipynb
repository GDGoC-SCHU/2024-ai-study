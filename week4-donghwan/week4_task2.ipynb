{
  "nbformat": 4,
  "nbformat_minor": 0,
  "metadata": {
    "colab": {
      "provenance": []
    },
    "kernelspec": {
      "name": "python3",
      "display_name": "Python 3"
    },
    "language_info": {
      "name": "python"
    }
  },
  "cells": [
    {
      "cell_type": "markdown",
      "source": [
        "# 과제: 손글씨 숫자 분류기 만들기\n"
      ],
      "metadata": {
        "id": "RMiCcQdvRmJU"
      }
    },
    {
      "cell_type": "markdown",
      "source": [
        "## 과제 목표\n",
        "MNIST 데이터셋을 사용하여 간단한 신경망(MLP)을 설계하고 손글씨 숫자를 분류하세요."
      ],
      "metadata": {
        "id": "qDLvgjbORrPP"
      }
    },
    {
      "cell_type": "markdown",
      "source": [
        "## 조건 및 요구사항"
      ],
      "metadata": {
        "id": "mysNyXhURv6n"
      }
    },
    {
      "cell_type": "markdown",
      "source": [
        "### 1. 데이터셋\n",
        "- **데이터**: MNIST 데이터셋 (케라스에서 제공).\n",
        "- **데이터 분할**: 훈련 데이터와 테스트 데이터로 나누어 사용.\n",
        "- **정규화**: 입력 데이터를 0~1 범위로 정규화."
      ],
      "metadata": {
        "id": "BMLEjTL1Rzgy"
      }
    },
    {
      "cell_type": "code",
      "source": [
        "import tensorflow as tf\n",
        "from tensorflow.keras.datasets import mnist\n",
        "from tensorflow.keras.utils import to_categorical\n",
        "\n",
        "## 데이터 준비\n",
        "data = mnist.load_data()\n",
        "## 데이터 분할\n",
        "(x_train, y_train), (x_test, y_test) = data\n",
        "## 데이터 정규화 (0 - 1 범위)\n",
        "x_train = x_train.astype('float32')/255.0\n",
        "x_test = x_test.astype('float32')/255.0"
      ],
      "metadata": {
        "id": "tTQE_GiVSN9j"
      },
      "execution_count": 1,
      "outputs": []
    },
    {
      "cell_type": "markdown",
      "source": [
        "### 2. 모델 구조\n",
        "- **신경망 구조**:\n",
        "  - 은닉층: 1개.\n",
        "  - 은닉층의 뉴런 수: `128`.\n",
        "  - 은닉층의 활성화 함수: `ReLU`.\n",
        "  - 출력층: 10개의 뉴런과 `softmax` 활성화 함수.\n",
        "- **모델 구성**: `tensorflow.keras.Sequential`을 사용하여 구성."
      ],
      "metadata": {
        "id": "qF3GptYjR2jo"
      }
    },
    {
      "cell_type": "code",
      "source": [
        "from tensorflow.keras.models import Sequential\n",
        "from tensorflow.keras.layers import Dense, Flatten\n",
        "\n",
        "## 모델 구성\n",
        "model = Sequential([\n",
        "    ## 이미지를 일차원 벡터로 변환\n",
        "    Flatten(input_shape=(28, 28)),\n",
        "\n",
        "    ## 은닉층은 1개이고 활성화 함수는 ReLU, 뉴런수는 128개\n",
        "    Dense(128, activation='relu'),\n",
        "\n",
        "    ## 출력층은 10개의 뉴런, 활성화 함수는 softmax\n",
        "    Dense(10, activation='softmax')\n",
        "])"
      ],
      "metadata": {
        "colab": {
          "base_uri": "https://localhost:8080/"
        },
        "id": "fd4xQYj9SOsT",
        "outputId": "3616a9a9-ef60-4f37-e101-90e9c7a74cc7"
      },
      "execution_count": 2,
      "outputs": [
        {
          "output_type": "stream",
          "name": "stderr",
          "text": [
            "/usr/local/lib/python3.10/dist-packages/keras/src/layers/reshaping/flatten.py:37: UserWarning: Do not pass an `input_shape`/`input_dim` argument to a layer. When using Sequential models, prefer using an `Input(shape)` object as the first layer in the model instead.\n",
            "  super().__init__(**kwargs)\n"
          ]
        }
      ]
    },
    {
      "cell_type": "markdown",
      "source": [
        "### 3. 모델 컴파일\n",
        "- **손실 함수**: `categorical_crossentropy`.\n",
        "- **옵티마이저**: `adam`.\n",
        "- **평가지표**: `accuracy`.\n"
      ],
      "metadata": {
        "id": "nsSO425TR7xO"
      }
    },
    {
      "cell_type": "code",
      "source": [
        "## 모델 컴파일\n",
        "model.compile(optimizer='adam', loss='categorical_crossentropy', metrics=['accuracy'])"
      ],
      "metadata": {
        "id": "-WCpQRKzSPPT"
      },
      "execution_count": 3,
      "outputs": []
    },
    {
      "cell_type": "markdown",
      "source": [
        "### 4. 훈련\n",
        "- **에포크 수**: `5`.\n",
        "- **배치 크기**: `32`.\n"
      ],
      "metadata": {
        "id": "iANGZpFLR9t6"
      }
    },
    {
      "cell_type": "code",
      "source": [
        "## 훈련을 진행할 때 target과 output의 shape이 안맞아 to_categorical을 통해 2D배열로 변환\n",
        "y_train = to_categorical(y_train)\n",
        "y_test = to_categorical(y_test)\n",
        "\n",
        "model.fit(x_train, y_train, batch_size=32, epochs = 5)"
      ],
      "metadata": {
        "colab": {
          "base_uri": "https://localhost:8080/"
        },
        "id": "TN6RG6nbSP2r",
        "outputId": "13f06f3e-94f2-41b6-bc9b-d57124b12ebe"
      },
      "execution_count": 4,
      "outputs": [
        {
          "output_type": "stream",
          "name": "stdout",
          "text": [
            "Epoch 1/5\n",
            "\u001b[1m1875/1875\u001b[0m \u001b[32m━━━━━━━━━━━━━━━━━━━━\u001b[0m\u001b[37m\u001b[0m \u001b[1m9s\u001b[0m 4ms/step - accuracy: 0.8761 - loss: 0.4242\n",
            "Epoch 2/5\n",
            "\u001b[1m1875/1875\u001b[0m \u001b[32m━━━━━━━━━━━━━━━━━━━━\u001b[0m\u001b[37m\u001b[0m \u001b[1m5s\u001b[0m 3ms/step - accuracy: 0.9652 - loss: 0.1194\n",
            "Epoch 3/5\n",
            "\u001b[1m1875/1875\u001b[0m \u001b[32m━━━━━━━━━━━━━━━━━━━━\u001b[0m\u001b[37m\u001b[0m \u001b[1m8s\u001b[0m 4ms/step - accuracy: 0.9771 - loss: 0.0743\n",
            "Epoch 4/5\n",
            "\u001b[1m1875/1875\u001b[0m \u001b[32m━━━━━━━━━━━━━━━━━━━━\u001b[0m\u001b[37m\u001b[0m \u001b[1m8s\u001b[0m 3ms/step - accuracy: 0.9832 - loss: 0.0564\n",
            "Epoch 5/5\n",
            "\u001b[1m1875/1875\u001b[0m \u001b[32m━━━━━━━━━━━━━━━━━━━━\u001b[0m\u001b[37m\u001b[0m \u001b[1m8s\u001b[0m 4ms/step - accuracy: 0.9878 - loss: 0.0424\n"
          ]
        },
        {
          "output_type": "execute_result",
          "data": {
            "text/plain": [
              "<keras.src.callbacks.history.History at 0x7d792115c4f0>"
            ]
          },
          "metadata": {},
          "execution_count": 4
        }
      ]
    },
    {
      "cell_type": "markdown",
      "source": [
        "### 5. 성능 평가\n",
        "- **훈련 후**: 테스트 데이터에서 모델의 정확도를 출력하세요.\n"
      ],
      "metadata": {
        "id": "8fY4hFv0SBs6"
      }
    },
    {
      "cell_type": "code",
      "source": [
        "## 테스트 데이터를 통해 정확도 예측\n",
        "test_loss, test_acc = model.evaluate(x_test, y_test)\n",
        "print(f'Test Accuracy: {test_acc}')"
      ],
      "metadata": {
        "colab": {
          "base_uri": "https://localhost:8080/"
        },
        "id": "fvsmXTLoSQLo",
        "outputId": "ab3590da-0168-4b1f-b887-ece57e20fbc0"
      },
      "execution_count": 12,
      "outputs": [
        {
          "output_type": "stream",
          "name": "stdout",
          "text": [
            "\u001b[1m313/313\u001b[0m \u001b[32m━━━━━━━━━━━━━━━━━━━━\u001b[0m\u001b[37m\u001b[0m \u001b[1m0s\u001b[0m 1ms/step - accuracy: 0.9707 - loss: 0.0955\n",
            "Test Accuracy: 0.9746000170707703\n"
          ]
        }
      ]
    },
    {
      "cell_type": "markdown",
      "source": [
        "\n",
        "## 출력 결과 예시\n",
        "1. **정확도 출력**:\n",
        "   - 훈련 정확도와 테스트 정확도를 출력하세요.\n",
        "2. **새로운 데이터 예측**:\n",
        "   - 테스트 데이터 첫 번째 샘플에 대한 모델의 예측 값과 실제 값을 출력하세요."
      ],
      "metadata": {
        "id": "AMQPwPFXSC0n"
      }
    },
    {
      "cell_type": "code",
      "execution_count": 13,
      "metadata": {
        "colab": {
          "base_uri": "https://localhost:8080/"
        },
        "id": "JlPOJGYKRLFJ",
        "outputId": "22edb70d-69d0-45a6-f1f3-7519419e3c56"
      },
      "outputs": [
        {
          "output_type": "stream",
          "name": "stdout",
          "text": [
            "Test Accuracy: 0.9746000170707703\n",
            "\u001b[1m1/1\u001b[0m \u001b[32m━━━━━━━━━━━━━━━━━━━━\u001b[0m\u001b[37m\u001b[0m \u001b[1m0s\u001b[0m 28ms/step\n",
            "Prediction: 7\n",
            "Actual: 7\n"
          ]
        }
      ],
      "source": [
        "import numpy as np\n",
        "## 정확도 예측 결과\n",
        "print(f'Test Accuracy: {test_acc}')\n",
        "## test데이터의 첫번째 샘플\n",
        "test_first_sample = x_test[0]\n",
        "## test데이터 첫번째 샘플 배치 처리(배치크기, 높이, 너비)\n",
        "test_first_sample = test_first_sample.reshape((1, 28, 28))\n",
        "## 단일 샘플 데이터를 모델에 넣어 예측\n",
        "prediction = model.predict(test_first_sample)\n",
        "\n",
        "## 최대값을 가지는 인덱스 반환\n",
        "pred = np.argmax(prediction)\n",
        "actual = np.argmax(y_test[0])\n",
        "\n",
        "print(f'Prediction: {pred}')\n",
        "print(f'Actual: {actual}')"
      ]
    }
  ]
}