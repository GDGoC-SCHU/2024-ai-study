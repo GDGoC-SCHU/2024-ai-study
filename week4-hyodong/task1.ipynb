{
 "cells": [
  {
   "cell_type": "code",
   "execution_count": 7,
   "id": "16b589bb-fab2-453f-88f5-240f4023e52d",
   "metadata": {},
   "outputs": [
    {
     "name": "stdout",
     "output_type": "stream",
     "text": [
      "Epoch 1/5\n",
      "\u001b[1m938/938\u001b[0m \u001b[32m━━━━━━━━━━━━━━━━━━━━\u001b[0m\u001b[37m\u001b[0m \u001b[1m3s\u001b[0m 2ms/step - accuracy: 0.8534 - loss: 0.5216\n",
      "Epoch 2/5\n",
      "\u001b[1m938/938\u001b[0m \u001b[32m━━━━━━━━━━━━━━━━━━━━\u001b[0m\u001b[37m\u001b[0m \u001b[1m2s\u001b[0m 2ms/step - accuracy: 0.9613 - loss: 0.1292\n",
      "Epoch 3/5\n",
      "\u001b[1m938/938\u001b[0m \u001b[32m━━━━━━━━━━━━━━━━━━━━\u001b[0m\u001b[37m\u001b[0m \u001b[1m2s\u001b[0m 2ms/step - accuracy: 0.9715 - loss: 0.0919\n",
      "Epoch 4/5\n",
      "\u001b[1m938/938\u001b[0m \u001b[32m━━━━━━━━━━━━━━━━━━━━\u001b[0m\u001b[37m\u001b[0m \u001b[1m2s\u001b[0m 2ms/step - accuracy: 0.9786 - loss: 0.0674\n",
      "Epoch 5/5\n",
      "\u001b[1m938/938\u001b[0m \u001b[32m━━━━━━━━━━━━━━━━━━━━\u001b[0m\u001b[37m\u001b[0m \u001b[1m2s\u001b[0m 2ms/step - accuracy: 0.9795 - loss: 0.0622\n",
      "테스트 정확도: 97.87%\n"
     ]
    }
   ],
   "source": [
    "import tensorflow as tf\n",
    "from tensorflow.keras.models import Sequential\n",
    "from tensorflow.keras.layers import Dense, BatchNormalization, ReLU, Dropout\n",
    "\n",
    "# 배치 정규화를 포함한 딥러닝 모델 정의 함수\n",
    "def create_model():\n",
    "    model = Sequential([\n",
    "        # TODO: 첫 번째 Dense 층(유닛 수: 256)과 적절한 입력 형태를 추가하세요.\n",
    "        Dense(256, input_shape=(784,)),\n",
    "\n",
    "        # TODO: 첫 번째 Dense 층 다음에 배치 정규화를 추가하세요.\n",
    "        BatchNormalization(),\n",
    "\n",
    "        # TODO: 첫 번째 배치 정규화 다음에 ReLU 활성화 함수를 추가하세요.\n",
    "        ReLU(),\n",
    "\n",
    "        # TODO: 유닛 수가 128인 Dense 층을 추가하세요.\n",
    "        Dense(128),\n",
    "\n",
    "        # 해당 층에 배치 정규화와 ReLU를 추가합니다.\n",
    "        \n",
    "        BatchNormalization(),\n",
    "        ReLU(),\n",
    "\n",
    "\n",
    "        # TODO: 드롭아웃 층(드롭아웃 비율: 0.3)을 추가하세요.\n",
    "        Dropout(0.3),\n",
    "\n",
    "        #TODO: 유닛 수가 64인 Dense 층을 추가하세요.\n",
    "        Dense(64),\n",
    "\n",
    "        # 해당 층에 배치 정규화와 ReLU를 추가합니다.\n",
    "        BatchNormalization(),\n",
    "        ReLU(),\n",
    "\n",
    "\n",
    "        # TODO: 유닛 수가 10인 출력층(Dense)과 softmax 활성화 함수를 추가하세요.\n",
    "        Dense(10, activation='softmax')\n",
    "\n",
    "    ])\n",
    "    return model\n",
    "\n",
    "# MNIST 데이터셋을 로드하고 전처리합니다.\n",
    "(x_train, y_train), (x_test, y_test) = tf.keras.datasets.mnist.load_data()\n",
    "\n",
    "# TODO: 데이터 형태를 (784,)로 변환하고, 0~1 범위로 정규화하세요.\n",
    "x_train = x_train.reshape(-1, 784).astype('float32') / 255.0\n",
    "x_test = x_test.reshape(-1, 784).astype('float32') / 255.0\n",
    "\n",
    "# TODO: Adam 옵티마이저, sparse categorical crossentropy 손실 함수, accuracy 메트릭으로 모델을 컴파일하세요.\n",
    "model = create_model()\n",
    "model.compile(\n",
    "    optimizer='adam',\n",
    "    loss='sparse_categorical_crossentropy',\n",
    "    metrics=['accuracy']\n",
    ")\n",
    "\n",
    "# TODO: 배치 크기를 64로, 에포크 수를 5로 설정하여 모델을 훈련하세요.\n",
    "model.fit(x_train, y_train, batch_size=64, epochs=5)\n",
    "\n",
    "\n",
    "# TODO: 모델을 평가하고 테스트 정확도를 출력하세요.\n",
    "test_loss, test_accuracy = model.evaluate(x_test, y_test, verbose=0)\n",
    "print(f\"테스트 정확도: {test_accuracy * 100:.2f}%\")\n",
    "\n"
   ]
  },
  {
   "cell_type": "code",
   "execution_count": null,
   "id": "08eadbaf-ea6c-4934-83b7-6dadfcef98ee",
   "metadata": {},
   "outputs": [],
   "source": []
  }
 ],
 "metadata": {
  "kernelspec": {
   "display_name": "Python 3 (ipykernel)",
   "language": "python",
   "name": "python3"
  },
  "language_info": {
   "codemirror_mode": {
    "name": "ipython",
    "version": 3
   },
   "file_extension": ".py",
   "mimetype": "text/x-python",
   "name": "python",
   "nbconvert_exporter": "python",
   "pygments_lexer": "ipython3",
   "version": "3.12.7"
  }
 },
 "nbformat": 4,
 "nbformat_minor": 5
}
