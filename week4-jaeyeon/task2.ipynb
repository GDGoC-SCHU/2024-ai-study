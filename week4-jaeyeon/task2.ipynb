{
 "cells": [
  {
   "cell_type": "code",
   "execution_count": 5,
   "id": "49516fcd-533c-4dc3-806b-0a93e91c13ac",
   "metadata": {},
   "outputs": [
    {
     "name": "stdout",
     "output_type": "stream",
     "text": [
      "Epoch 1/5\n",
      "\u001b[1m1688/1688\u001b[0m \u001b[32m━━━━━━━━━━━━━━━━━━━━\u001b[0m\u001b[37m\u001b[0m \u001b[1m6s\u001b[0m 3ms/step - accuracy: 0.8714 - loss: 0.4582 - val_accuracy: 0.9632 - val_loss: 0.1258\n",
      "Epoch 2/5\n",
      "\u001b[1m1688/1688\u001b[0m \u001b[32m━━━━━━━━━━━━━━━━━━━━\u001b[0m\u001b[37m\u001b[0m \u001b[1m4s\u001b[0m 2ms/step - accuracy: 0.9622 - loss: 0.1308 - val_accuracy: 0.9732 - val_loss: 0.0979\n",
      "Epoch 3/5\n",
      "\u001b[1m1688/1688\u001b[0m \u001b[32m━━━━━━━━━━━━━━━━━━━━\u001b[0m\u001b[37m\u001b[0m \u001b[1m4s\u001b[0m 2ms/step - accuracy: 0.9750 - loss: 0.0856 - val_accuracy: 0.9747 - val_loss: 0.0858\n",
      "Epoch 4/5\n",
      "\u001b[1m1688/1688\u001b[0m \u001b[32m━━━━━━━━━━━━━━━━━━━━\u001b[0m\u001b[37m\u001b[0m \u001b[1m4s\u001b[0m 2ms/step - accuracy: 0.9822 - loss: 0.0595 - val_accuracy: 0.9763 - val_loss: 0.0856\n",
      "Epoch 5/5\n",
      "\u001b[1m1688/1688\u001b[0m \u001b[32m━━━━━━━━━━━━━━━━━━━━\u001b[0m\u001b[37m\u001b[0m \u001b[1m5s\u001b[0m 3ms/step - accuracy: 0.9857 - loss: 0.0470 - val_accuracy: 0.9810 - val_loss: 0.0726\n",
      "Train accuracy: 0.9898\n",
      "Test accuracy: 0.9765\n",
      "Predicted label: 7\n",
      "True label: 7\n"
     ]
    }
   ],
   "source": [
    "import tensorflow as tf\n",
    "from tensorflow.keras.models import Sequential\n",
    "from tensorflow.keras.layers import Dense\n",
    "from tensorflow.keras.utils import to_categorical\n",
    "\n",
    "# 1. 데이터셋 준비\n",
    "# MNIST 데이터셋 로드\n",
    "(x_train, y_train), (x_test, y_test) = tf.keras.datasets.mnist.load_data()\n",
    "\n",
    "# 데이터 정규화 (0~1 범위로 스케일링) 및 형태 변환\n",
    "x_train = x_train.reshape(-1, 784).astype('float32') / 255.0\n",
    "x_test = x_test.reshape(-1, 784).astype('float32') / 255.0\n",
    "\n",
    "# 타겟 값 원-핫 인코딩\n",
    "y_train = to_categorical(y_train, num_classes=10)\n",
    "y_test = to_categorical(y_test, num_classes=10)\n",
    "\n",
    "# 2. 모델 구조 정의\n",
    "model = Sequential([\n",
    "    Dense(128, activation='relu', input_shape=(784,)),  # 은닉층\n",
    "    Dense(10, activation='softmax')                    # 출력층\n",
    "])\n",
    "\n",
    "# 3. 모델 컴파일\n",
    "model.compile(\n",
    "    optimizer='adam',\n",
    "    loss='categorical_crossentropy',\n",
    "    metrics=['accuracy']\n",
    ")\n",
    "\n",
    "# 4. 모델 훈련\n",
    "history = model.fit(\n",
    "    x_train, y_train,\n",
    "    epochs=5,\n",
    "    batch_size=32,\n",
    "    validation_split=0.1\n",
    ")\n",
    "\n",
    "# 5. 성능 평가\n",
    "train_loss, train_accuracy = model.evaluate(x_train, y_train, verbose=0)\n",
    "test_loss, test_accuracy = model.evaluate(x_test, y_test, verbose=0)\n",
    "\n",
    "print(f\"Train accuracy: {train_accuracy:.4f}\")\n",
    "print(f\"Test accuracy: {test_accuracy:.4f}\")\n",
    "\n",
    "# 6. 새로운 데이터 예측\n",
    "import numpy as np\n",
    "\n",
    "# 테스트 데이터 첫 번째 샘플에 대한 예측\n",
    "sample_index = 0\n",
    "sample_input = x_test[sample_index].reshape(1, -1)\n",
    "sample_prediction = model.predict(sample_input, verbose=0)\n",
    "predicted_label = np.argmax(sample_prediction)\n",
    "true_label = np.argmax(y_test[sample_index])\n",
    "\n",
    "print(f\"Predicted label: {predicted_label}\")\n",
    "print(f\"True label: {true_label}\")\n"
   ]
  },
  {
   "cell_type": "code",
   "execution_count": null,
   "id": "3973539f-6d06-4eaf-9a99-bb63a0b6b17c",
   "metadata": {},
   "outputs": [],
   "source": []
  },
  {
   "cell_type": "code",
   "execution_count": null,
   "id": "b60ddfcd-5cb4-4660-a3f0-bd81bd63d065",
   "metadata": {},
   "outputs": [],
   "source": []
  }
 ],
 "metadata": {
  "kernelspec": {
   "display_name": "Python 3 (ipykernel)",
   "language": "python",
   "name": "python3"
  },
  "language_info": {
   "codemirror_mode": {
    "name": "ipython",
    "version": 3
   },
   "file_extension": ".py",
   "mimetype": "text/x-python",
   "name": "python",
   "nbconvert_exporter": "python",
   "pygments_lexer": "ipython3",
   "version": "3.12.7"
  }
 },
 "nbformat": 4,
 "nbformat_minor": 5
}
