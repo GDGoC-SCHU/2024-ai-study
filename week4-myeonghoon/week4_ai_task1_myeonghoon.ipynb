{
  "nbformat": 4,
  "nbformat_minor": 0,
  "metadata": {
    "colab": {
      "provenance": []
    },
    "kernelspec": {
      "name": "python3",
      "display_name": "Python 3"
    },
    "language_info": {
      "name": "python"
    }
  },
  "cells": [
    {
      "cell_type": "code",
      "execution_count": 1,
      "metadata": {
        "colab": {
          "base_uri": "https://localhost:8080/"
        },
        "id": "ooIECUIN0F3k",
        "outputId": "aa9687fb-9cbc-4a6b-bb0e-45f16b3a6b8e"
      },
      "outputs": [
        {
          "output_type": "stream",
          "name": "stdout",
          "text": [
            "Downloading data from https://storage.googleapis.com/tensorflow/tf-keras-datasets/mnist.npz\n",
            "\u001b[1m11490434/11490434\u001b[0m \u001b[32m━━━━━━━━━━━━━━━━━━━━\u001b[0m\u001b[37m\u001b[0m \u001b[1m0s\u001b[0m 0us/step\n"
          ]
        },
        {
          "output_type": "stream",
          "name": "stderr",
          "text": [
            "/usr/local/lib/python3.10/dist-packages/keras/src/layers/core/dense.py:87: UserWarning: Do not pass an `input_shape`/`input_dim` argument to a layer. When using Sequential models, prefer using an `Input(shape)` object as the first layer in the model instead.\n",
            "  super().__init__(activity_regularizer=activity_regularizer, **kwargs)\n"
          ]
        },
        {
          "output_type": "stream",
          "name": "stdout",
          "text": [
            "Epoch 1/5\n",
            "\u001b[1m938/938\u001b[0m \u001b[32m━━━━━━━━━━━━━━━━━━━━\u001b[0m\u001b[37m\u001b[0m \u001b[1m9s\u001b[0m 7ms/step - accuracy: 0.8600 - loss: 0.5064\n",
            "Epoch 2/5\n",
            "\u001b[1m938/938\u001b[0m \u001b[32m━━━━━━━━━━━━━━━━━━━━\u001b[0m\u001b[37m\u001b[0m \u001b[1m10s\u001b[0m 7ms/step - accuracy: 0.9599 - loss: 0.1341\n",
            "Epoch 3/5\n",
            "\u001b[1m938/938\u001b[0m \u001b[32m━━━━━━━━━━━━━━━━━━━━\u001b[0m\u001b[37m\u001b[0m \u001b[1m8s\u001b[0m 8ms/step - accuracy: 0.9720 - loss: 0.0894\n",
            "Epoch 4/5\n",
            "\u001b[1m938/938\u001b[0m \u001b[32m━━━━━━━━━━━━━━━━━━━━\u001b[0m\u001b[37m\u001b[0m \u001b[1m10s\u001b[0m 8ms/step - accuracy: 0.9784 - loss: 0.0702\n",
            "Epoch 5/5\n",
            "\u001b[1m938/938\u001b[0m \u001b[32m━━━━━━━━━━━━━━━━━━━━\u001b[0m\u001b[37m\u001b[0m \u001b[1m9s\u001b[0m 6ms/step - accuracy: 0.9793 - loss: 0.0633\n",
            "313/313 - 1s - 2ms/step - accuracy: 0.9775 - loss: 0.0706\n",
            "Test Accuracy: 97.75%\n"
          ]
        }
      ],
      "source": [
        "import tensorflow as tf\n",
        "from tensorflow.keras.models import Sequential\n",
        "from tensorflow.keras.layers import Dense, BatchNormalization, ReLU, Dropout, Flatten\n",
        "\n",
        "# 배치 정규화를 포함한 딥러닝 모델 정의 함수\n",
        "def create_model():\n",
        "    model = Sequential([\n",
        "        # 첫 번째 Dense 층(유닛 수: 256)과 입력 형태 정의\n",
        "        Dense(256, input_shape=(784,)),\n",
        "\n",
        "        # 첫 번째 Dense 층 다음에 배치 정규화 추가\n",
        "        BatchNormalization(),\n",
        "\n",
        "        # 첫 번째 배치 정규화 다음에 ReLU 활성화 함수 추가\n",
        "        ReLU(),\n",
        "\n",
        "        # 유닛 수가 128인 Dense 층 추가\n",
        "        Dense(128),\n",
        "\n",
        "        # 해당 층에 배치 정규화와 ReLU 추가\n",
        "        BatchNormalization(),\n",
        "        ReLU(),\n",
        "\n",
        "        # 드롭아웃 층(드롭아웃 비율: 0.3) 추가\n",
        "        Dropout(0.3),\n",
        "\n",
        "        # 유닛 수가 64인 Dense 층 추가\n",
        "        Dense(64),\n",
        "\n",
        "        # 해당 층에 배치 정규화와 ReLU 추가\n",
        "        BatchNormalization(),\n",
        "        ReLU(),\n",
        "\n",
        "        # 유닛 수가 10인 출력층(Dense)과 softmax 활성화 함수 추가\n",
        "        Dense(10, activation='softmax'),\n",
        "    ])\n",
        "    return model\n",
        "\n",
        "# MNIST 데이터셋을 로드하고 전처리합니다.\n",
        "(x_train, y_train), (x_test, y_test) = tf.keras.datasets.mnist.load_data()\n",
        "\n",
        "# 데이터 형태를 (784,)로 변환하고, 0~1 범위로 정규화\n",
        "x_train = x_train.reshape(-1, 784).astype('float32') / 255.0\n",
        "x_test = x_test.reshape(-1, 784).astype('float32') / 255.0\n",
        "\n",
        "# 모델 생성 및 컴파일\n",
        "model = create_model()\n",
        "model.compile(\n",
        "    optimizer='adam',  # Adam 옵티마이저\n",
        "    loss='sparse_categorical_crossentropy',  # 손실 함수\n",
        "    metrics=['accuracy']  # 평가 메트릭\n",
        ")\n",
        "\n",
        "# 배치 크기를 64로, 에포크 수를 5로 설정하여 모델을 훈련\n",
        "model.fit(x_train, y_train, batch_size=64, epochs=5)\n",
        "\n",
        "# 모델을 평가하고 테스트 정확도를 출력\n",
        "test_loss, test_accuracy = model.evaluate(x_test, y_test, verbose=2)\n",
        "print(f\"Test Accuracy: {test_accuracy * 100:.2f}%\")\n"
      ]
    }
  ]
}