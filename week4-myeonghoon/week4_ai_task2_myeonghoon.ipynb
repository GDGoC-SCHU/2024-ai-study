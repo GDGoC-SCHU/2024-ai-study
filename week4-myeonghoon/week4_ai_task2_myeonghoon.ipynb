{
  "nbformat": 4,
  "nbformat_minor": 0,
  "metadata": {
    "colab": {
      "provenance": []
    },
    "kernelspec": {
      "name": "python3",
      "display_name": "Python 3"
    },
    "language_info": {
      "name": "python"
    }
  },
  "cells": [
    {
      "cell_type": "code",
      "execution_count": 1,
      "metadata": {
        "colab": {
          "base_uri": "https://localhost:8080/"
        },
        "id": "yvdJwNH40PMk",
        "outputId": "f471204d-11df-42d8-ed76-e7997009e33d"
      },
      "outputs": [
        {
          "output_type": "stream",
          "name": "stdout",
          "text": [
            "Downloading data from https://storage.googleapis.com/tensorflow/tf-keras-datasets/mnist.npz\n",
            "\u001b[1m11490434/11490434\u001b[0m \u001b[32m━━━━━━━━━━━━━━━━━━━━\u001b[0m\u001b[37m\u001b[0m \u001b[1m0s\u001b[0m 0us/step\n"
          ]
        },
        {
          "output_type": "stream",
          "name": "stderr",
          "text": [
            "/usr/local/lib/python3.10/dist-packages/keras/src/layers/reshaping/flatten.py:37: UserWarning: Do not pass an `input_shape`/`input_dim` argument to a layer. When using Sequential models, prefer using an `Input(shape)` object as the first layer in the model instead.\n",
            "  super().__init__(**kwargs)\n"
          ]
        },
        {
          "output_type": "stream",
          "name": "stdout",
          "text": [
            "Epoch 1/5\n",
            "\u001b[1m1875/1875\u001b[0m \u001b[32m━━━━━━━━━━━━━━━━━━━━\u001b[0m\u001b[37m\u001b[0m \u001b[1m9s\u001b[0m 4ms/step - accuracy: 0.8793 - loss: 0.4285\n",
            "Epoch 2/5\n",
            "\u001b[1m1875/1875\u001b[0m \u001b[32m━━━━━━━━━━━━━━━━━━━━\u001b[0m\u001b[37m\u001b[0m \u001b[1m9s\u001b[0m 3ms/step - accuracy: 0.9646 - loss: 0.1204\n",
            "Epoch 3/5\n",
            "\u001b[1m1875/1875\u001b[0m \u001b[32m━━━━━━━━━━━━━━━━━━━━\u001b[0m\u001b[37m\u001b[0m \u001b[1m8s\u001b[0m 5ms/step - accuracy: 0.9753 - loss: 0.0813\n",
            "Epoch 4/5\n",
            "\u001b[1m1875/1875\u001b[0m \u001b[32m━━━━━━━━━━━━━━━━━━━━\u001b[0m\u001b[37m\u001b[0m \u001b[1m8s\u001b[0m 3ms/step - accuracy: 0.9825 - loss: 0.0579\n",
            "Epoch 5/5\n",
            "\u001b[1m1875/1875\u001b[0m \u001b[32m━━━━━━━━━━━━━━━━━━━━\u001b[0m\u001b[37m\u001b[0m \u001b[1m8s\u001b[0m 4ms/step - accuracy: 0.9873 - loss: 0.0419\n",
            "훈련 정확도: 0.9904\n",
            "테스트 정확도: 0.9783\n",
            "\u001b[1m313/313\u001b[0m \u001b[32m━━━━━━━━━━━━━━━━━━━━\u001b[0m\u001b[37m\u001b[0m \u001b[1m1s\u001b[0m 2ms/step\n",
            "첫 번째 샘플 예측 값: 7\n",
            "첫 번째 샘플 실제 값: 7\n"
          ]
        }
      ],
      "source": [
        "# 과제2. MNIST 데이터셋을 사용하여 간단한 신경망(MLP)을 설계하고 손글씨 숫자를 분류하세요.\n",
        "\n",
        "import tensorflow as tf\n",
        "from tensorflow.keras.models import Sequential\n",
        "from tensorflow.keras.layers import Dense, Flatten\n",
        "from tensorflow.keras.utils import to_categorical\n",
        "from tensorflow.keras.datasets import mnist\n",
        "\n",
        "# 1. 데이터셋 로드 및 전처리\n",
        "(x_train, y_train), (x_test, y_test) = mnist.load_data()\n",
        "\n",
        "# 입력 데이터 정규화\n",
        "x_train = x_train / 255.0\n",
        "x_test = x_test / 255.0\n",
        "\n",
        "# 레이블 원-핫 인코딩\n",
        "y_train = to_categorical(y_train, 10)\n",
        "y_test = to_categorical(y_test, 10)\n",
        "\n",
        "# 2. 모델 구조 설계\n",
        "model = Sequential([\n",
        "    Flatten(input_shape=(28, 28)),  # 28x28 이미지를 1D 벡터로 변환\n",
        "    Dense(128, activation='relu'), # 은닉층\n",
        "    Dense(10, activation='softmax') # 출력층\n",
        "])\n",
        "\n",
        "# 3. 모델 컴파일\n",
        "model.compile(\n",
        "    optimizer='adam',\n",
        "    loss='categorical_crossentropy',\n",
        "    metrics=['accuracy']\n",
        ")\n",
        "\n",
        "# 4. 모델 훈련\n",
        "model.fit(x_train, y_train, epochs=5, batch_size=32)\n",
        "\n",
        "# 5. 성능 평가 및 출력\n",
        "train_loss, train_acc = model.evaluate(x_train, y_train, verbose=0)\n",
        "test_loss, test_acc = model.evaluate(x_test, y_test, verbose=0)\n",
        "\n",
        "print(f\"훈련 정확도: {train_acc:.4f}\")\n",
        "print(f\"테스트 정확도: {test_acc:.4f}\")\n",
        "\n",
        "# 새로운 데이터 예측\n",
        "predictions = model.predict(x_test)\n",
        "\n",
        "# 테스트 데이터의 첫 번째 샘플에 대한 예측 값과 실제 값 출력\n",
        "first_sample_pred = tf.argmax(predictions[0]).numpy()\n",
        "first_sample_actual = tf.argmax(y_test[0]).numpy()\n",
        "\n",
        "print(f\"첫 번째 샘플 예측 값: {first_sample_pred}\")\n",
        "print(f\"첫 번째 샘플 실제 값: {first_sample_actual}\")\n"
      ]
    }
  ]
}