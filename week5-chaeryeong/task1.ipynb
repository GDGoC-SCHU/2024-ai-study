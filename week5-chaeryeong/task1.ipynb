{
 "cells": [
  {
   "cell_type": "code",
   "execution_count": null,
   "metadata": {
    "colab": {
     "base_uri": "https://localhost:8080/"
    },
    "id": "-S6n0fNei-S-",
    "outputId": "08a1f26c-c1ed-46a5-fddf-6e125a7f0fcf"
   },
   "outputs": [
    {
     "name": "stderr",
     "output_type": "stream",
     "text": [
      "WARNING:absl:Compiled the loaded model, but the compiled metrics have yet to be built. `model.compile_metrics` will be empty until you train or evaluate the model.\n"
     ]
    },
    {
     "name": "stdout",
     "output_type": "stream",
     "text": [
      "Epoch 1/5\n",
      "\u001b[1m750/750\u001b[0m \u001b[32m━━━━━━━━━━━━━━━━━━━━\u001b[0m\u001b[37m\u001b[0m \u001b[1m3s\u001b[0m 3ms/step - accuracy: 0.9055 - loss: 0.3724 - val_accuracy: 0.9918 - val_loss: 0.0286\n",
      "Epoch 2/5\n",
      "\u001b[1m750/750\u001b[0m \u001b[32m━━━━━━━━━━━━━━━━━━━━\u001b[0m\u001b[37m\u001b[0m \u001b[1m3s\u001b[0m 3ms/step - accuracy: 0.9913 - loss: 0.0302 - val_accuracy: 0.9917 - val_loss: 0.0247\n",
      "Epoch 3/5\n",
      "\u001b[1m750/750\u001b[0m \u001b[32m━━━━━━━━━━━━━━━━━━━━\u001b[0m\u001b[37m\u001b[0m \u001b[1m5s\u001b[0m 3ms/step - accuracy: 0.9924 - loss: 0.0244 - val_accuracy: 0.9921 - val_loss: 0.0257\n",
      "Epoch 4/5\n",
      "\u001b[1m750/750\u001b[0m \u001b[32m━━━━━━━━━━━━━━━━━━━━\u001b[0m\u001b[37m\u001b[0m \u001b[1m2s\u001b[0m 3ms/step - accuracy: 0.9927 - loss: 0.0225 - val_accuracy: 0.9918 - val_loss: 0.0250\n",
      "Epoch 5/5\n",
      "\u001b[1m750/750\u001b[0m \u001b[32m━━━━━━━━━━━━━━━━━━━━\u001b[0m\u001b[37m\u001b[0m \u001b[1m2s\u001b[0m 3ms/step - accuracy: 0.9930 - loss: 0.0226 - val_accuracy: 0.9916 - val_loss: 0.0243\n",
      "\u001b[1m313/313\u001b[0m \u001b[32m━━━━━━━━━━━━━━━━━━━━\u001b[0m\u001b[37m\u001b[0m \u001b[1m1s\u001b[0m 2ms/step - accuracy: 0.9768 - loss: 0.0972\n",
      "테스트 정확도: 0.9801\n"
     ]
    }
   ],
   "source": [
    "import tensorflow as tf\n",
    "from tensorflow.keras.models import load_model, Model\n",
    "from tensorflow.keras.layers import Dense, Input\n",
    "\n",
    "# TODO: 저장된 기존 모델('my_model.h5')을 불러오세요.\n",
    "base_model = load_model('./my_model.h5')\n",
    "\n",
    "# TODO: 새로운 입력 레이어를 정의하세요. (입력 형태: (784,))\n",
    "input_layer = Input(shape=(784,), name='input_layer')\n",
    "\n",
    "# TODO: 기존 모델에서 hidden1부터 hidden3까지를 가져와 연결하세요.\n",
    "hidden1 = base_model.get_layer('hidden1')(input_layer)\n",
    "hidden2 = base_model.get_layer('hidden2')(hidden1)\n",
    "hidden3 = base_model.get_layer('hidden3')(hidden2)\n",
    "\n",
    "# TODO: hidden1과 hidden2 레이어를 동결하세요.\n",
    "for layer_name in ['hidden1', 'hidden2']:\n",
    "    base_model.get_layer(layer_name).trainable = False\n",
    "\n",
    "# TODO: 새로운 hidden4와 logits 레이어를 추가하여 모델을 확장하세요.\n",
    "hidden4 = Dense(64, activation='relu', name='hidden4')(hidden3)\n",
    "logits = Dense(10, activation='softmax', name='logits')(hidden4)\n",
    "\n",
    "# TODO: 새로운 Transfer Learning 모델을 생성하세요.\n",
    "transfer_model = Model(inputs=input_layer, outputs=logits)\n",
    "\n",
    "# TODO: 모델을 컴파일하세요. (옵티마이저: Adam, 손실 함수: Sparse Categorical Crossentropy, 메트릭: Accuracy\n",
    "transfer_model.compile(\n",
    "    optimizer=tf.keras.optimizers.Adam(),\n",
    "    loss=tf.keras.losses.SparseCategoricalCrossentropy(),\n",
    "    metrics=['accuracy']\n",
    ")\n",
    "\n",
    "# TODO: MNIST 데이터셋을 로드하고 전처리하세요. (데이터를 (784,)로 변환 및 정규화)\n",
    "(x_train, y_train), (x_test, y_test) = tf.keras.datasets.mnist.load_data()\n",
    "x_train = x_train.reshape(-1, 784).astype('float32') / 255.0\n",
    "x_test = x_test.reshape(-1, 784).astype('float32') / 255.0\n",
    "\n",
    "# TODO: 모델을 학습하세요. (배치 크기: 64, 에포크: 5, 검증 데이터: 20%)\n",
    "history = transfer_model.fit(\n",
    "    x_train, y_train,\n",
    "    batch_size=64,\n",
    "    epochs=5,\n",
    "    validation_split=0.2\n",
    ")\n",
    "\n",
    "# TODO: 모델을 평가하고 테스트 정확도를 출력하세요.\n",
    "test_loss, test_acc = transfer_model.evaluate(x_test, y_test)\n",
    "print(f\"테스트 정확도: {test_acc:.4f}\")\n"
   ]
  }
 ],
 "metadata": {
  "colab": {
   "provenance": []
  },
  "kernelspec": {
   "display_name": "Python 3",
   "name": "python3"
  },
  "language_info": {
   "name": "python"
  }
 },
 "nbformat": 4,
 "nbformat_minor": 0
}
